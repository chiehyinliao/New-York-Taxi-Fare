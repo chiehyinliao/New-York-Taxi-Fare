{
  "nbformat": 4,
  "nbformat_minor": 0,
  "metadata": {
    "colab": {
      "provenance": [],
      "machine_shape": "hm"
    },
    "kernelspec": {
      "name": "python3",
      "display_name": "Python 3"
    },
    "accelerator": "TPU"
  },
  "cells": [
    {
      "cell_type": "markdown",
      "metadata": {
        "id": "4cbgwZWWfWpp"
      },
      "source": [
        "## Load Data\n"
      ]
    },
    {
      "cell_type": "code",
      "metadata": {
        "id": "tAb77yZ9fzMG",
        "colab": {
          "base_uri": "https://localhost:8080/"
        },
        "outputId": "9ad3a839-c916-4821-97e4-0bda97c32a68"
      },
      "source": [
        "!pip install opendatasets --upgrade"
      ],
      "execution_count": 1,
      "outputs": [
        {
          "output_type": "stream",
          "name": "stdout",
          "text": [
            "Looking in indexes: https://pypi.org/simple, https://us-python.pkg.dev/colab-wheels/public/simple/\n",
            "Collecting opendatasets\n",
            "  Downloading opendatasets-0.1.22-py3-none-any.whl (15 kB)\n",
            "Requirement already satisfied: kaggle in /usr/local/lib/python3.8/dist-packages (from opendatasets) (1.5.12)\n",
            "Requirement already satisfied: tqdm in /usr/local/lib/python3.8/dist-packages (from opendatasets) (4.64.1)\n",
            "Requirement already satisfied: click in /usr/local/lib/python3.8/dist-packages (from opendatasets) (7.1.2)\n",
            "Requirement already satisfied: six>=1.10 in /usr/local/lib/python3.8/dist-packages (from kaggle->opendatasets) (1.15.0)\n",
            "Requirement already satisfied: urllib3 in /usr/local/lib/python3.8/dist-packages (from kaggle->opendatasets) (1.24.3)\n",
            "Requirement already satisfied: python-dateutil in /usr/local/lib/python3.8/dist-packages (from kaggle->opendatasets) (2.8.2)\n",
            "Requirement already satisfied: requests in /usr/local/lib/python3.8/dist-packages (from kaggle->opendatasets) (2.23.0)\n",
            "Requirement already satisfied: python-slugify in /usr/local/lib/python3.8/dist-packages (from kaggle->opendatasets) (7.0.0)\n",
            "Requirement already satisfied: certifi in /usr/local/lib/python3.8/dist-packages (from kaggle->opendatasets) (2022.12.7)\n",
            "Requirement already satisfied: text-unidecode>=1.3 in /usr/local/lib/python3.8/dist-packages (from python-slugify->kaggle->opendatasets) (1.3)\n",
            "Requirement already satisfied: chardet<4,>=3.0.2 in /usr/local/lib/python3.8/dist-packages (from requests->kaggle->opendatasets) (3.0.4)\n",
            "Requirement already satisfied: idna<3,>=2.5 in /usr/local/lib/python3.8/dist-packages (from requests->kaggle->opendatasets) (2.10)\n",
            "Installing collected packages: opendatasets\n",
            "Successfully installed opendatasets-0.1.22\n"
          ]
        }
      ]
    },
    {
      "cell_type": "code",
      "metadata": {
        "id": "pafL7Li0jyXW"
      },
      "source": [
        "# import necessary libraries\n",
        "import opendatasets as od\n",
        "import pandas as pd\n",
        "import random\n",
        "import time\n",
        "import numpy as np\n",
        "import seaborn as sns\n",
        "import matplotlib.pyplot as plt\n",
        "from io import StringIO\n",
        "\n",
        "\n",
        "from sklearn.model_selection import train_test_split\n",
        "from sklearn.linear_model import LinearRegression, Lasso, LassoCV\n",
        "from sklearn.metrics import mean_squared_error\n",
        "from sklearn.tree import DecisionTreeRegressor, DecisionTreeClassifier, export_graphviz\n",
        "from sklearn.ensemble import BaggingRegressor, RandomForestRegressor, GradientBoostingRegressor\n",
        "from keras.models import Sequential\n",
        "from keras.layers import Dense"
      ],
      "execution_count": 2,
      "outputs": []
    },
    {
      "cell_type": "code",
      "source": [
        "dataset_url = 'https://www.kaggle.com/c/new-york-city-taxi-fare-prediction'\n",
        "od.download(dataset_url)\n",
        "# {\"username\":\"jeliao\",\"key\":\"4d48f6ad6cc3d692b8a6015490d31bcf\"}"
      ],
      "metadata": {
        "colab": {
          "base_uri": "https://localhost:8080/"
        },
        "id": "xODe95nwynur",
        "outputId": "255bee30-7a72-4417-96b1-2ca726291659"
      },
      "execution_count": 3,
      "outputs": [
        {
          "output_type": "stream",
          "name": "stdout",
          "text": [
            "Please provide your Kaggle credentials to download this dataset. Learn more: http://bit.ly/kaggle-creds\n",
            "Your Kaggle username: jeliao\n",
            "Your Kaggle Key: ··········\n",
            "Downloading new-york-city-taxi-fare-prediction.zip to ./new-york-city-taxi-fare-prediction\n"
          ]
        },
        {
          "output_type": "stream",
          "name": "stderr",
          "text": [
            "100%|██████████| 1.56G/1.56G [00:19<00:00, 85.3MB/s]\n"
          ]
        },
        {
          "output_type": "stream",
          "name": "stdout",
          "text": [
            "\n",
            "Extracting archive ./new-york-city-taxi-fare-prediction/new-york-city-taxi-fare-prediction.zip to ./new-york-city-taxi-fare-prediction\n"
          ]
        }
      ]
    },
    {
      "cell_type": "code",
      "source": [
        "#The dataset will be save in a folder called 'new-york-city-taxi-fare-prediction'. We save that folder as 'data_dir'.\n",
        "data_dir = 'new-york-city-taxi-fare-prediction'"
      ],
      "metadata": {
        "id": "fwMKyo8FzFyc"
      },
      "execution_count": 4,
      "outputs": []
    },
    {
      "cell_type": "code",
      "source": [
        "#Check the content of the folder and size of each file.\n",
        "!dir -l {data_dir}"
      ],
      "metadata": {
        "colab": {
          "base_uri": "https://localhost:8080/"
        },
        "id": "PAHJXm94zHAr",
        "outputId": "4ef9afe2-3222-4e64-f36f-17cde21f60f3"
      },
      "execution_count": 5,
      "outputs": [
        {
          "output_type": "stream",
          "name": "stdout",
          "text": [
            "total 5564956\n",
            "-rw-r--r-- 1 root root        486 Dec 20 03:50 GCP-Coupons-Instructions.rtf\n",
            "-rw-r--r-- 1 root root     343271 Dec 20 03:50 sample_submission.csv\n",
            "-rw-r--r-- 1 root root     983020 Dec 20 03:50 test.csv\n",
            "-rw-r--r-- 1 root root 5697178298 Dec 20 03:51 train.csv\n"
          ]
        }
      ]
    },
    {
      "cell_type": "code",
      "source": [
        "# Decide % of size we want to use. \n",
        "sample_frac = 0.1"
      ],
      "metadata": {
        "id": "nok2U9VrzLPT"
      },
      "execution_count": 7,
      "outputs": []
    },
    {
      "cell_type": "code",
      "source": [
        "%%time\n",
        "selected_cols = 'fare_amount,pickup_datetime,pickup_longitude,pickup_latitude,dropoff_longitude,dropoff_latitude,passenger_count'.split(',')\n",
        "dtypes = {\n",
        "    'fare_amount': 'float32',\n",
        "    'pickup_longitude': 'float32',\n",
        "    'pickup_latitude': 'float32',\n",
        "    'dropoff_longitude': 'float32',\n",
        "    'passenger_count': 'float32'\n",
        "}\n",
        "\n",
        "def skip_row(row_idx):\n",
        "    if row_idx == 0:\n",
        "        return False\n",
        "    return random.random() > sample_frac\n",
        "\n",
        "random.seed(29)\n",
        "taxi_train = pd.read_csv(data_dir+'/train.csv', \n",
        "                 usecols=selected_cols, \n",
        "                 dtype=dtypes, \n",
        "                 parse_dates=['pickup_datetime'], \n",
        "                 skiprows=skip_row)"
      ],
      "metadata": {
        "colab": {
          "base_uri": "https://localhost:8080/"
        },
        "id": "qZR7OCCYzRkf",
        "outputId": "045ecfcb-3ca8-4baa-f533-50467918c6c4"
      },
      "execution_count": 8,
      "outputs": [
        {
          "output_type": "stream",
          "name": "stdout",
          "text": [
            "CPU times: user 14min 18s, sys: 8.66 s, total: 14min 26s\n",
            "Wall time: 15min 22s\n"
          ]
        }
      ]
    },
    {
      "cell_type": "markdown",
      "source": [
        "## Data Cleaning"
      ],
      "metadata": {
        "id": "q3MiJmPy2sAU"
      }
    },
    {
      "cell_type": "code",
      "source": [
        "taxi_train.head() "
      ],
      "metadata": {
        "colab": {
          "base_uri": "https://localhost:8080/",
          "height": 206
        },
        "id": "bWBCQJwP0xB2",
        "outputId": "f0d538c7-d82e-4fe7-c7d7-88e2b0c027a6"
      },
      "execution_count": 9,
      "outputs": [
        {
          "output_type": "execute_result",
          "data": {
            "text/plain": [
              "   fare_amount           pickup_datetime  pickup_longitude  pickup_latitude  \\\n",
              "0          9.0 2013-11-24 11:42:00+00:00        -73.957741        40.773617   \n",
              "1          5.3 2011-03-04 18:12:00+00:00        -73.997040        40.737095   \n",
              "2          5.0 2014-07-16 10:57:00+00:00        -73.996147        40.741890   \n",
              "3          3.7 2010-01-31 10:53:00+00:00        -74.001633        40.730766   \n",
              "4          7.7 2010-12-04 14:26:13+00:00        -73.996597        40.736568   \n",
              "\n",
              "   dropoff_longitude  dropoff_latitude  passenger_count  \n",
              "0         -73.977089         40.758465              6.0  \n",
              "1         -73.986130         40.735043              1.0  \n",
              "2         -73.992203         40.739425              6.0  \n",
              "3         -73.997108         40.737533              1.0  \n",
              "4         -73.982155         40.744322              1.0  "
            ],
            "text/html": [
              "\n",
              "  <div id=\"df-16ade901-ec2c-4334-9c3f-47170ad33b62\">\n",
              "    <div class=\"colab-df-container\">\n",
              "      <div>\n",
              "<style scoped>\n",
              "    .dataframe tbody tr th:only-of-type {\n",
              "        vertical-align: middle;\n",
              "    }\n",
              "\n",
              "    .dataframe tbody tr th {\n",
              "        vertical-align: top;\n",
              "    }\n",
              "\n",
              "    .dataframe thead th {\n",
              "        text-align: right;\n",
              "    }\n",
              "</style>\n",
              "<table border=\"1\" class=\"dataframe\">\n",
              "  <thead>\n",
              "    <tr style=\"text-align: right;\">\n",
              "      <th></th>\n",
              "      <th>fare_amount</th>\n",
              "      <th>pickup_datetime</th>\n",
              "      <th>pickup_longitude</th>\n",
              "      <th>pickup_latitude</th>\n",
              "      <th>dropoff_longitude</th>\n",
              "      <th>dropoff_latitude</th>\n",
              "      <th>passenger_count</th>\n",
              "    </tr>\n",
              "  </thead>\n",
              "  <tbody>\n",
              "    <tr>\n",
              "      <th>0</th>\n",
              "      <td>9.0</td>\n",
              "      <td>2013-11-24 11:42:00+00:00</td>\n",
              "      <td>-73.957741</td>\n",
              "      <td>40.773617</td>\n",
              "      <td>-73.977089</td>\n",
              "      <td>40.758465</td>\n",
              "      <td>6.0</td>\n",
              "    </tr>\n",
              "    <tr>\n",
              "      <th>1</th>\n",
              "      <td>5.3</td>\n",
              "      <td>2011-03-04 18:12:00+00:00</td>\n",
              "      <td>-73.997040</td>\n",
              "      <td>40.737095</td>\n",
              "      <td>-73.986130</td>\n",
              "      <td>40.735043</td>\n",
              "      <td>1.0</td>\n",
              "    </tr>\n",
              "    <tr>\n",
              "      <th>2</th>\n",
              "      <td>5.0</td>\n",
              "      <td>2014-07-16 10:57:00+00:00</td>\n",
              "      <td>-73.996147</td>\n",
              "      <td>40.741890</td>\n",
              "      <td>-73.992203</td>\n",
              "      <td>40.739425</td>\n",
              "      <td>6.0</td>\n",
              "    </tr>\n",
              "    <tr>\n",
              "      <th>3</th>\n",
              "      <td>3.7</td>\n",
              "      <td>2010-01-31 10:53:00+00:00</td>\n",
              "      <td>-74.001633</td>\n",
              "      <td>40.730766</td>\n",
              "      <td>-73.997108</td>\n",
              "      <td>40.737533</td>\n",
              "      <td>1.0</td>\n",
              "    </tr>\n",
              "    <tr>\n",
              "      <th>4</th>\n",
              "      <td>7.7</td>\n",
              "      <td>2010-12-04 14:26:13+00:00</td>\n",
              "      <td>-73.996597</td>\n",
              "      <td>40.736568</td>\n",
              "      <td>-73.982155</td>\n",
              "      <td>40.744322</td>\n",
              "      <td>1.0</td>\n",
              "    </tr>\n",
              "  </tbody>\n",
              "</table>\n",
              "</div>\n",
              "      <button class=\"colab-df-convert\" onclick=\"convertToInteractive('df-16ade901-ec2c-4334-9c3f-47170ad33b62')\"\n",
              "              title=\"Convert this dataframe to an interactive table.\"\n",
              "              style=\"display:none;\">\n",
              "        \n",
              "  <svg xmlns=\"http://www.w3.org/2000/svg\" height=\"24px\"viewBox=\"0 0 24 24\"\n",
              "       width=\"24px\">\n",
              "    <path d=\"M0 0h24v24H0V0z\" fill=\"none\"/>\n",
              "    <path d=\"M18.56 5.44l.94 2.06.94-2.06 2.06-.94-2.06-.94-.94-2.06-.94 2.06-2.06.94zm-11 1L8.5 8.5l.94-2.06 2.06-.94-2.06-.94L8.5 2.5l-.94 2.06-2.06.94zm10 10l.94 2.06.94-2.06 2.06-.94-2.06-.94-.94-2.06-.94 2.06-2.06.94z\"/><path d=\"M17.41 7.96l-1.37-1.37c-.4-.4-.92-.59-1.43-.59-.52 0-1.04.2-1.43.59L10.3 9.45l-7.72 7.72c-.78.78-.78 2.05 0 2.83L4 21.41c.39.39.9.59 1.41.59.51 0 1.02-.2 1.41-.59l7.78-7.78 2.81-2.81c.8-.78.8-2.07 0-2.86zM5.41 20L4 18.59l7.72-7.72 1.47 1.35L5.41 20z\"/>\n",
              "  </svg>\n",
              "      </button>\n",
              "      \n",
              "  <style>\n",
              "    .colab-df-container {\n",
              "      display:flex;\n",
              "      flex-wrap:wrap;\n",
              "      gap: 12px;\n",
              "    }\n",
              "\n",
              "    .colab-df-convert {\n",
              "      background-color: #E8F0FE;\n",
              "      border: none;\n",
              "      border-radius: 50%;\n",
              "      cursor: pointer;\n",
              "      display: none;\n",
              "      fill: #1967D2;\n",
              "      height: 32px;\n",
              "      padding: 0 0 0 0;\n",
              "      width: 32px;\n",
              "    }\n",
              "\n",
              "    .colab-df-convert:hover {\n",
              "      background-color: #E2EBFA;\n",
              "      box-shadow: 0px 1px 2px rgba(60, 64, 67, 0.3), 0px 1px 3px 1px rgba(60, 64, 67, 0.15);\n",
              "      fill: #174EA6;\n",
              "    }\n",
              "\n",
              "    [theme=dark] .colab-df-convert {\n",
              "      background-color: #3B4455;\n",
              "      fill: #D2E3FC;\n",
              "    }\n",
              "\n",
              "    [theme=dark] .colab-df-convert:hover {\n",
              "      background-color: #434B5C;\n",
              "      box-shadow: 0px 1px 3px 1px rgba(0, 0, 0, 0.15);\n",
              "      filter: drop-shadow(0px 1px 2px rgba(0, 0, 0, 0.3));\n",
              "      fill: #FFFFFF;\n",
              "    }\n",
              "  </style>\n",
              "\n",
              "      <script>\n",
              "        const buttonEl =\n",
              "          document.querySelector('#df-16ade901-ec2c-4334-9c3f-47170ad33b62 button.colab-df-convert');\n",
              "        buttonEl.style.display =\n",
              "          google.colab.kernel.accessAllowed ? 'block' : 'none';\n",
              "\n",
              "        async function convertToInteractive(key) {\n",
              "          const element = document.querySelector('#df-16ade901-ec2c-4334-9c3f-47170ad33b62');\n",
              "          const dataTable =\n",
              "            await google.colab.kernel.invokeFunction('convertToInteractive',\n",
              "                                                     [key], {});\n",
              "          if (!dataTable) return;\n",
              "\n",
              "          const docLinkHtml = 'Like what you see? Visit the ' +\n",
              "            '<a target=\"_blank\" href=https://colab.research.google.com/notebooks/data_table.ipynb>data table notebook</a>'\n",
              "            + ' to learn more about interactive tables.';\n",
              "          element.innerHTML = '';\n",
              "          dataTable['output_type'] = 'display_data';\n",
              "          await google.colab.output.renderOutput(dataTable, element);\n",
              "          const docLink = document.createElement('div');\n",
              "          docLink.innerHTML = docLinkHtml;\n",
              "          element.appendChild(docLink);\n",
              "        }\n",
              "      </script>\n",
              "    </div>\n",
              "  </div>\n",
              "  "
            ]
          },
          "metadata": {},
          "execution_count": 9
        }
      ]
    },
    {
      "cell_type": "code",
      "source": [
        "round(taxi_train.describe(), 2)"
      ],
      "metadata": {
        "colab": {
          "base_uri": "https://localhost:8080/",
          "height": 300
        },
        "id": "6BH-W5as1Yq-",
        "outputId": "81426324-0c3c-47bf-c921-ad3d27805bea"
      },
      "execution_count": 10,
      "outputs": [
        {
          "output_type": "execute_result",
          "data": {
            "text/plain": [
              "       fare_amount  pickup_longitude  pickup_latitude  dropoff_longitude  \\\n",
              "count   5545831.00        5545831.00       5545831.00         5545792.00   \n",
              "mean         11.33            -72.51            39.91             -72.51   \n",
              "std           9.78             12.76             9.98              12.99   \n",
              "min         -70.00          -3426.61         -3492.26           -3408.43   \n",
              "25%           6.00            -73.99            40.73             -73.99   \n",
              "50%           8.50            -73.98            40.75             -73.98   \n",
              "75%          12.50            -73.97            40.77             -73.96   \n",
              "max        1273.31           3454.85          3352.85            3211.58   \n",
              "\n",
              "       dropoff_latitude  passenger_count  \n",
              "count        5545792.00       5545831.00  \n",
              "mean              39.92             1.69  \n",
              "std                9.91             1.33  \n",
              "min            -3429.36             0.00  \n",
              "25%               40.73             1.00  \n",
              "50%               40.75             1.00  \n",
              "75%               40.77             2.00  \n",
              "max             3351.47           208.00  "
            ],
            "text/html": [
              "\n",
              "  <div id=\"df-51731164-aefb-422d-89a8-5961f2109894\">\n",
              "    <div class=\"colab-df-container\">\n",
              "      <div>\n",
              "<style scoped>\n",
              "    .dataframe tbody tr th:only-of-type {\n",
              "        vertical-align: middle;\n",
              "    }\n",
              "\n",
              "    .dataframe tbody tr th {\n",
              "        vertical-align: top;\n",
              "    }\n",
              "\n",
              "    .dataframe thead th {\n",
              "        text-align: right;\n",
              "    }\n",
              "</style>\n",
              "<table border=\"1\" class=\"dataframe\">\n",
              "  <thead>\n",
              "    <tr style=\"text-align: right;\">\n",
              "      <th></th>\n",
              "      <th>fare_amount</th>\n",
              "      <th>pickup_longitude</th>\n",
              "      <th>pickup_latitude</th>\n",
              "      <th>dropoff_longitude</th>\n",
              "      <th>dropoff_latitude</th>\n",
              "      <th>passenger_count</th>\n",
              "    </tr>\n",
              "  </thead>\n",
              "  <tbody>\n",
              "    <tr>\n",
              "      <th>count</th>\n",
              "      <td>5545831.00</td>\n",
              "      <td>5545831.00</td>\n",
              "      <td>5545831.00</td>\n",
              "      <td>5545792.00</td>\n",
              "      <td>5545792.00</td>\n",
              "      <td>5545831.00</td>\n",
              "    </tr>\n",
              "    <tr>\n",
              "      <th>mean</th>\n",
              "      <td>11.33</td>\n",
              "      <td>-72.51</td>\n",
              "      <td>39.91</td>\n",
              "      <td>-72.51</td>\n",
              "      <td>39.92</td>\n",
              "      <td>1.69</td>\n",
              "    </tr>\n",
              "    <tr>\n",
              "      <th>std</th>\n",
              "      <td>9.78</td>\n",
              "      <td>12.76</td>\n",
              "      <td>9.98</td>\n",
              "      <td>12.99</td>\n",
              "      <td>9.91</td>\n",
              "      <td>1.33</td>\n",
              "    </tr>\n",
              "    <tr>\n",
              "      <th>min</th>\n",
              "      <td>-70.00</td>\n",
              "      <td>-3426.61</td>\n",
              "      <td>-3492.26</td>\n",
              "      <td>-3408.43</td>\n",
              "      <td>-3429.36</td>\n",
              "      <td>0.00</td>\n",
              "    </tr>\n",
              "    <tr>\n",
              "      <th>25%</th>\n",
              "      <td>6.00</td>\n",
              "      <td>-73.99</td>\n",
              "      <td>40.73</td>\n",
              "      <td>-73.99</td>\n",
              "      <td>40.73</td>\n",
              "      <td>1.00</td>\n",
              "    </tr>\n",
              "    <tr>\n",
              "      <th>50%</th>\n",
              "      <td>8.50</td>\n",
              "      <td>-73.98</td>\n",
              "      <td>40.75</td>\n",
              "      <td>-73.98</td>\n",
              "      <td>40.75</td>\n",
              "      <td>1.00</td>\n",
              "    </tr>\n",
              "    <tr>\n",
              "      <th>75%</th>\n",
              "      <td>12.50</td>\n",
              "      <td>-73.97</td>\n",
              "      <td>40.77</td>\n",
              "      <td>-73.96</td>\n",
              "      <td>40.77</td>\n",
              "      <td>2.00</td>\n",
              "    </tr>\n",
              "    <tr>\n",
              "      <th>max</th>\n",
              "      <td>1273.31</td>\n",
              "      <td>3454.85</td>\n",
              "      <td>3352.85</td>\n",
              "      <td>3211.58</td>\n",
              "      <td>3351.47</td>\n",
              "      <td>208.00</td>\n",
              "    </tr>\n",
              "  </tbody>\n",
              "</table>\n",
              "</div>\n",
              "      <button class=\"colab-df-convert\" onclick=\"convertToInteractive('df-51731164-aefb-422d-89a8-5961f2109894')\"\n",
              "              title=\"Convert this dataframe to an interactive table.\"\n",
              "              style=\"display:none;\">\n",
              "        \n",
              "  <svg xmlns=\"http://www.w3.org/2000/svg\" height=\"24px\"viewBox=\"0 0 24 24\"\n",
              "       width=\"24px\">\n",
              "    <path d=\"M0 0h24v24H0V0z\" fill=\"none\"/>\n",
              "    <path d=\"M18.56 5.44l.94 2.06.94-2.06 2.06-.94-2.06-.94-.94-2.06-.94 2.06-2.06.94zm-11 1L8.5 8.5l.94-2.06 2.06-.94-2.06-.94L8.5 2.5l-.94 2.06-2.06.94zm10 10l.94 2.06.94-2.06 2.06-.94-2.06-.94-.94-2.06-.94 2.06-2.06.94z\"/><path d=\"M17.41 7.96l-1.37-1.37c-.4-.4-.92-.59-1.43-.59-.52 0-1.04.2-1.43.59L10.3 9.45l-7.72 7.72c-.78.78-.78 2.05 0 2.83L4 21.41c.39.39.9.59 1.41.59.51 0 1.02-.2 1.41-.59l7.78-7.78 2.81-2.81c.8-.78.8-2.07 0-2.86zM5.41 20L4 18.59l7.72-7.72 1.47 1.35L5.41 20z\"/>\n",
              "  </svg>\n",
              "      </button>\n",
              "      \n",
              "  <style>\n",
              "    .colab-df-container {\n",
              "      display:flex;\n",
              "      flex-wrap:wrap;\n",
              "      gap: 12px;\n",
              "    }\n",
              "\n",
              "    .colab-df-convert {\n",
              "      background-color: #E8F0FE;\n",
              "      border: none;\n",
              "      border-radius: 50%;\n",
              "      cursor: pointer;\n",
              "      display: none;\n",
              "      fill: #1967D2;\n",
              "      height: 32px;\n",
              "      padding: 0 0 0 0;\n",
              "      width: 32px;\n",
              "    }\n",
              "\n",
              "    .colab-df-convert:hover {\n",
              "      background-color: #E2EBFA;\n",
              "      box-shadow: 0px 1px 2px rgba(60, 64, 67, 0.3), 0px 1px 3px 1px rgba(60, 64, 67, 0.15);\n",
              "      fill: #174EA6;\n",
              "    }\n",
              "\n",
              "    [theme=dark] .colab-df-convert {\n",
              "      background-color: #3B4455;\n",
              "      fill: #D2E3FC;\n",
              "    }\n",
              "\n",
              "    [theme=dark] .colab-df-convert:hover {\n",
              "      background-color: #434B5C;\n",
              "      box-shadow: 0px 1px 3px 1px rgba(0, 0, 0, 0.15);\n",
              "      filter: drop-shadow(0px 1px 2px rgba(0, 0, 0, 0.3));\n",
              "      fill: #FFFFFF;\n",
              "    }\n",
              "  </style>\n",
              "\n",
              "      <script>\n",
              "        const buttonEl =\n",
              "          document.querySelector('#df-51731164-aefb-422d-89a8-5961f2109894 button.colab-df-convert');\n",
              "        buttonEl.style.display =\n",
              "          google.colab.kernel.accessAllowed ? 'block' : 'none';\n",
              "\n",
              "        async function convertToInteractive(key) {\n",
              "          const element = document.querySelector('#df-51731164-aefb-422d-89a8-5961f2109894');\n",
              "          const dataTable =\n",
              "            await google.colab.kernel.invokeFunction('convertToInteractive',\n",
              "                                                     [key], {});\n",
              "          if (!dataTable) return;\n",
              "\n",
              "          const docLinkHtml = 'Like what you see? Visit the ' +\n",
              "            '<a target=\"_blank\" href=https://colab.research.google.com/notebooks/data_table.ipynb>data table notebook</a>'\n",
              "            + ' to learn more about interactive tables.';\n",
              "          element.innerHTML = '';\n",
              "          dataTable['output_type'] = 'display_data';\n",
              "          await google.colab.output.renderOutput(dataTable, element);\n",
              "          const docLink = document.createElement('div');\n",
              "          docLink.innerHTML = docLinkHtml;\n",
              "          element.appendChild(docLink);\n",
              "        }\n",
              "      </script>\n",
              "    </div>\n",
              "  </div>\n",
              "  "
            ]
          },
          "metadata": {},
          "execution_count": 10
        }
      ]
    },
    {
      "cell_type": "code",
      "source": [
        "taxi_train.shape"
      ],
      "metadata": {
        "colab": {
          "base_uri": "https://localhost:8080/"
        },
        "id": "zzePdin-1bEY",
        "outputId": "e37537df-1ca0-470e-db5b-88e399dfa554"
      },
      "execution_count": 11,
      "outputs": [
        {
          "output_type": "execute_result",
          "data": {
            "text/plain": [
              "(5545831, 7)"
            ]
          },
          "metadata": {},
          "execution_count": 11
        }
      ]
    },
    {
      "cell_type": "code",
      "source": [
        "taxi_train.isnull().sum()"
      ],
      "metadata": {
        "colab": {
          "base_uri": "https://localhost:8080/"
        },
        "id": "9SkK5DiC1ean",
        "outputId": "31f67bf1-de86-4ee8-8dad-7c0cfbd9a7dd"
      },
      "execution_count": 12,
      "outputs": [
        {
          "output_type": "execute_result",
          "data": {
            "text/plain": [
              "fare_amount           0\n",
              "pickup_datetime       0\n",
              "pickup_longitude      0\n",
              "pickup_latitude       0\n",
              "dropoff_longitude    39\n",
              "dropoff_latitude     39\n",
              "passenger_count       0\n",
              "dtype: int64"
            ]
          },
          "metadata": {},
          "execution_count": 12
        }
      ]
    },
    {
      "cell_type": "code",
      "source": [
        "taxi_train = taxi_train.dropna()"
      ],
      "metadata": {
        "id": "8iZ4bNE41kYM"
      },
      "execution_count": 13,
      "outputs": []
    },
    {
      "cell_type": "code",
      "source": [
        "# remove data outlier\n",
        "taxi_train = taxi_train.drop(taxi_train[taxi_train['pickup_longitude'] <= -75].index)\n",
        "taxi_train = taxi_train.drop(taxi_train[taxi_train['pickup_longitude'] >= -72].index)\n",
        "taxi_train = taxi_train.drop(taxi_train[taxi_train['dropoff_longitude'] <= -75].index)\n",
        "taxi_train = taxi_train.drop(taxi_train[taxi_train['dropoff_longitude'] >= -72].index)\n",
        "taxi_train = taxi_train.drop(taxi_train[taxi_train['pickup_latitude'] <= 40].index)\n",
        "taxi_train = taxi_train.drop(taxi_train[taxi_train['pickup_latitude'] >= 42].index)\n",
        "taxi_train = taxi_train.drop(taxi_train[taxi_train['dropoff_latitude'] <= 40].index)\n",
        "taxi_train = taxi_train.drop(taxi_train[taxi_train['dropoff_latitude'] >= 42].index)\n",
        "\n",
        "taxi_train = taxi_train.drop(taxi_train[taxi_train['fare_amount'] < 1].index)\n",
        "taxi_train = taxi_train.drop(taxi_train[taxi_train['fare_amount'] > 500].index)\n",
        "taxi_train = taxi_train.drop(taxi_train[taxi_train['passenger_count'] > 6].index)\n",
        "taxi_train = taxi_train.drop(taxi_train[taxi_train['passenger_count'] < 1].index)"
      ],
      "metadata": {
        "id": "Y3UhfW6i1gYa"
      },
      "execution_count": 14,
      "outputs": []
    },
    {
      "cell_type": "code",
      "source": [
        "taxi_train.shape "
      ],
      "metadata": {
        "colab": {
          "base_uri": "https://localhost:8080/"
        },
        "id": "vQphMkV-3rUB",
        "outputId": "1254ecef-260e-456b-b73e-33481b7045ba"
      },
      "execution_count": 15,
      "outputs": [
        {
          "output_type": "execute_result",
          "data": {
            "text/plain": [
              "(5409799, 7)"
            ]
          },
          "metadata": {},
          "execution_count": 15
        }
      ]
    },
    {
      "cell_type": "markdown",
      "source": [
        "## Feature Engineering"
      ],
      "metadata": {
        "id": "b0vw9P1z5kWi"
      }
    },
    {
      "cell_type": "code",
      "source": [
        "# Haversine Distance -- used to calculate great-circle distance given longitudes and latitudes.\n",
        "def haversine(lon1, lat1, lon2, lat2):\n",
        "    # convert decimal degrees to radians \n",
        "    lon1, lat1, lon2, lat2 = map(np.radians, [lon1, lat1, lon2, lat2])\n",
        "\n",
        "    # haversine formula\n",
        "    dlon = lon2 - lon1\n",
        "    dlat = lat2 - lat1\n",
        "\n",
        "    a = np.sin(dlat/2.0)**2 + np.cos(lat1) * np.cos(lat2) * np.sin(dlon/2.0)**2\n",
        "\n",
        "    c = 2 * np.arcsin(np.sqrt(a))\n",
        "    km = 6367 * c # Radius of earth in kilometers. Use 3956 for miles. Determines return value units.\n",
        "    return km"
      ],
      "metadata": {
        "id": "TyyJaYnv14Nm"
      },
      "execution_count": 16,
      "outputs": []
    },
    {
      "cell_type": "code",
      "source": [
        "taxi_train['distance'] = haversine(taxi_train['pickup_longitude'], taxi_train['pickup_latitude'], \n",
        "                                   taxi_train['dropoff_longitude'], taxi_train['dropoff_latitude'])"
      ],
      "metadata": {
        "id": "NKFInzfP1-Ku"
      },
      "execution_count": 17,
      "outputs": []
    },
    {
      "cell_type": "code",
      "source": [
        "# Extract parts of date\n",
        "taxi_train['pickup_datetime'] = pd.to_datetime(taxi_train.pickup_datetime)\n",
        "taxi_train['pickup_year'] = taxi_train['pickup_datetime'].dt.year\n",
        "taxi_train['pickup_month'] = taxi_train['pickup_datetime'].dt.month\n",
        "taxi_train['pickup_day'] = taxi_train['pickup_datetime'].dt.day\n",
        "taxi_train['pickup_hour'] = taxi_train['pickup_datetime'].dt.hour\n",
        "taxi_train['pickup_weekday'] = taxi_train['pickup_datetime'].dt.day_name()\n",
        "taxi_train['pickup_day'] = taxi_train['pickup_datetime'].dt.dayofweek"
      ],
      "metadata": {
        "id": "kOvKmCLI2VZi"
      },
      "execution_count": 18,
      "outputs": []
    },
    {
      "cell_type": "code",
      "source": [
        "# Base Fare --fares begin at $2.50 ($3.00 after 8:00 p.m., and $3.50 during the peak weekday hours of 4:00–8:00 p.m.)\n",
        "conditions = [(taxi_train['pickup_hour'] >= 20) & (taxi_train['pickup_hour'] < 24),\n",
        "            (taxi_train['pickup_hour'] >= 16) & (taxi_train['pickup_hour'] < 20) & (taxi_train['pickup_day'] >= 0) & (taxi_train['pickup_day'] <= 4)]\n",
        "choices = [3,3.5]\n",
        "taxi_train['base_fare'] = np.select(conditions, choices, default=2.5)"
      ],
      "metadata": {
        "id": "wGziZPD62cac"
      },
      "execution_count": 19,
      "outputs": []
    },
    {
      "cell_type": "code",
      "source": [
        "#Add distance from famous landmark\n",
        "time_square_lonlat = -73.9855, 40.758\n",
        "jfk_lonlat = -73.7781, 40.6413\n",
        "statue_lonlat = -74.0445, 40.6892\n",
        "\n",
        "def add_landmark_dropoff_distance(df, landmark_name, landmark_lonlat):\n",
        "    lon, lat = landmark_lonlat\n",
        "    df[landmark_name + '_distance'] = haversine(lon, lat, df['dropoff_longitude'], df['dropoff_latitude'])\n",
        "\n",
        "def add_landmarks(a_df):\n",
        "  landmarks = [('time_square', time_square_lonlat), ('jfk', jfk_lonlat),  ('statue', statue_lonlat)]\n",
        "  for name, lonlat in landmarks:\n",
        "    add_landmark_dropoff_distance(a_df, name, lonlat)\n",
        "\n",
        "add_landmarks(taxi_train)"
      ],
      "metadata": {
        "id": "QVtPA8yT2bu5"
      },
      "execution_count": 20,
      "outputs": []
    },
    {
      "cell_type": "code",
      "source": [
        "taxi_train.head()"
      ],
      "metadata": {
        "colab": {
          "base_uri": "https://localhost:8080/",
          "height": 357
        },
        "id": "_aSRWImD8629",
        "outputId": "96860343-f425-48bd-88f7-cff5767b4b9d"
      },
      "execution_count": 21,
      "outputs": [
        {
          "output_type": "execute_result",
          "data": {
            "text/plain": [
              "   fare_amount           pickup_datetime  pickup_longitude  pickup_latitude  \\\n",
              "0          9.0 2013-11-24 11:42:00+00:00        -73.957741        40.773617   \n",
              "1          5.3 2011-03-04 18:12:00+00:00        -73.997040        40.737095   \n",
              "2          5.0 2014-07-16 10:57:00+00:00        -73.996147        40.741890   \n",
              "3          3.7 2010-01-31 10:53:00+00:00        -74.001633        40.730766   \n",
              "4          7.7 2010-12-04 14:26:13+00:00        -73.996597        40.736568   \n",
              "\n",
              "   dropoff_longitude  dropoff_latitude  passenger_count  distance  \\\n",
              "0         -73.977089         40.758465              6.0  2.342486   \n",
              "1         -73.986130         40.735043              1.0  0.946365   \n",
              "2         -73.992203         40.739425              6.0  0.430317   \n",
              "3         -73.997108         40.737533              1.0  0.842717   \n",
              "4         -73.982155         40.744322              1.0  1.490212   \n",
              "\n",
              "   pickup_year  pickup_month  pickup_day  pickup_hour pickup_weekday  \\\n",
              "0         2013            11           6           11         Sunday   \n",
              "1         2011             3           4           18         Friday   \n",
              "2         2014             7           2           10      Wednesday   \n",
              "3         2010             1           6           10         Sunday   \n",
              "4         2010            12           5           14       Saturday   \n",
              "\n",
              "   base_fare  time_square_distance  jfk_distance  statue_distance  \n",
              "0        2.5              0.709867     21.226512         9.564284  \n",
              "1        3.5              2.551654     20.391082         7.079799  \n",
              "2        2.5              2.139922     21.079769         7.110075  \n",
              "3        2.5              2.475470     21.328510         6.691976  \n",
              "4        2.5              1.545802     20.655997         8.068041  "
            ],
            "text/html": [
              "\n",
              "  <div id=\"df-88d0cc54-17a1-4705-be0a-8b8db56f223c\">\n",
              "    <div class=\"colab-df-container\">\n",
              "      <div>\n",
              "<style scoped>\n",
              "    .dataframe tbody tr th:only-of-type {\n",
              "        vertical-align: middle;\n",
              "    }\n",
              "\n",
              "    .dataframe tbody tr th {\n",
              "        vertical-align: top;\n",
              "    }\n",
              "\n",
              "    .dataframe thead th {\n",
              "        text-align: right;\n",
              "    }\n",
              "</style>\n",
              "<table border=\"1\" class=\"dataframe\">\n",
              "  <thead>\n",
              "    <tr style=\"text-align: right;\">\n",
              "      <th></th>\n",
              "      <th>fare_amount</th>\n",
              "      <th>pickup_datetime</th>\n",
              "      <th>pickup_longitude</th>\n",
              "      <th>pickup_latitude</th>\n",
              "      <th>dropoff_longitude</th>\n",
              "      <th>dropoff_latitude</th>\n",
              "      <th>passenger_count</th>\n",
              "      <th>distance</th>\n",
              "      <th>pickup_year</th>\n",
              "      <th>pickup_month</th>\n",
              "      <th>pickup_day</th>\n",
              "      <th>pickup_hour</th>\n",
              "      <th>pickup_weekday</th>\n",
              "      <th>base_fare</th>\n",
              "      <th>time_square_distance</th>\n",
              "      <th>jfk_distance</th>\n",
              "      <th>statue_distance</th>\n",
              "    </tr>\n",
              "  </thead>\n",
              "  <tbody>\n",
              "    <tr>\n",
              "      <th>0</th>\n",
              "      <td>9.0</td>\n",
              "      <td>2013-11-24 11:42:00+00:00</td>\n",
              "      <td>-73.957741</td>\n",
              "      <td>40.773617</td>\n",
              "      <td>-73.977089</td>\n",
              "      <td>40.758465</td>\n",
              "      <td>6.0</td>\n",
              "      <td>2.342486</td>\n",
              "      <td>2013</td>\n",
              "      <td>11</td>\n",
              "      <td>6</td>\n",
              "      <td>11</td>\n",
              "      <td>Sunday</td>\n",
              "      <td>2.5</td>\n",
              "      <td>0.709867</td>\n",
              "      <td>21.226512</td>\n",
              "      <td>9.564284</td>\n",
              "    </tr>\n",
              "    <tr>\n",
              "      <th>1</th>\n",
              "      <td>5.3</td>\n",
              "      <td>2011-03-04 18:12:00+00:00</td>\n",
              "      <td>-73.997040</td>\n",
              "      <td>40.737095</td>\n",
              "      <td>-73.986130</td>\n",
              "      <td>40.735043</td>\n",
              "      <td>1.0</td>\n",
              "      <td>0.946365</td>\n",
              "      <td>2011</td>\n",
              "      <td>3</td>\n",
              "      <td>4</td>\n",
              "      <td>18</td>\n",
              "      <td>Friday</td>\n",
              "      <td>3.5</td>\n",
              "      <td>2.551654</td>\n",
              "      <td>20.391082</td>\n",
              "      <td>7.079799</td>\n",
              "    </tr>\n",
              "    <tr>\n",
              "      <th>2</th>\n",
              "      <td>5.0</td>\n",
              "      <td>2014-07-16 10:57:00+00:00</td>\n",
              "      <td>-73.996147</td>\n",
              "      <td>40.741890</td>\n",
              "      <td>-73.992203</td>\n",
              "      <td>40.739425</td>\n",
              "      <td>6.0</td>\n",
              "      <td>0.430317</td>\n",
              "      <td>2014</td>\n",
              "      <td>7</td>\n",
              "      <td>2</td>\n",
              "      <td>10</td>\n",
              "      <td>Wednesday</td>\n",
              "      <td>2.5</td>\n",
              "      <td>2.139922</td>\n",
              "      <td>21.079769</td>\n",
              "      <td>7.110075</td>\n",
              "    </tr>\n",
              "    <tr>\n",
              "      <th>3</th>\n",
              "      <td>3.7</td>\n",
              "      <td>2010-01-31 10:53:00+00:00</td>\n",
              "      <td>-74.001633</td>\n",
              "      <td>40.730766</td>\n",
              "      <td>-73.997108</td>\n",
              "      <td>40.737533</td>\n",
              "      <td>1.0</td>\n",
              "      <td>0.842717</td>\n",
              "      <td>2010</td>\n",
              "      <td>1</td>\n",
              "      <td>6</td>\n",
              "      <td>10</td>\n",
              "      <td>Sunday</td>\n",
              "      <td>2.5</td>\n",
              "      <td>2.475470</td>\n",
              "      <td>21.328510</td>\n",
              "      <td>6.691976</td>\n",
              "    </tr>\n",
              "    <tr>\n",
              "      <th>4</th>\n",
              "      <td>7.7</td>\n",
              "      <td>2010-12-04 14:26:13+00:00</td>\n",
              "      <td>-73.996597</td>\n",
              "      <td>40.736568</td>\n",
              "      <td>-73.982155</td>\n",
              "      <td>40.744322</td>\n",
              "      <td>1.0</td>\n",
              "      <td>1.490212</td>\n",
              "      <td>2010</td>\n",
              "      <td>12</td>\n",
              "      <td>5</td>\n",
              "      <td>14</td>\n",
              "      <td>Saturday</td>\n",
              "      <td>2.5</td>\n",
              "      <td>1.545802</td>\n",
              "      <td>20.655997</td>\n",
              "      <td>8.068041</td>\n",
              "    </tr>\n",
              "  </tbody>\n",
              "</table>\n",
              "</div>\n",
              "      <button class=\"colab-df-convert\" onclick=\"convertToInteractive('df-88d0cc54-17a1-4705-be0a-8b8db56f223c')\"\n",
              "              title=\"Convert this dataframe to an interactive table.\"\n",
              "              style=\"display:none;\">\n",
              "        \n",
              "  <svg xmlns=\"http://www.w3.org/2000/svg\" height=\"24px\"viewBox=\"0 0 24 24\"\n",
              "       width=\"24px\">\n",
              "    <path d=\"M0 0h24v24H0V0z\" fill=\"none\"/>\n",
              "    <path d=\"M18.56 5.44l.94 2.06.94-2.06 2.06-.94-2.06-.94-.94-2.06-.94 2.06-2.06.94zm-11 1L8.5 8.5l.94-2.06 2.06-.94-2.06-.94L8.5 2.5l-.94 2.06-2.06.94zm10 10l.94 2.06.94-2.06 2.06-.94-2.06-.94-.94-2.06-.94 2.06-2.06.94z\"/><path d=\"M17.41 7.96l-1.37-1.37c-.4-.4-.92-.59-1.43-.59-.52 0-1.04.2-1.43.59L10.3 9.45l-7.72 7.72c-.78.78-.78 2.05 0 2.83L4 21.41c.39.39.9.59 1.41.59.51 0 1.02-.2 1.41-.59l7.78-7.78 2.81-2.81c.8-.78.8-2.07 0-2.86zM5.41 20L4 18.59l7.72-7.72 1.47 1.35L5.41 20z\"/>\n",
              "  </svg>\n",
              "      </button>\n",
              "      \n",
              "  <style>\n",
              "    .colab-df-container {\n",
              "      display:flex;\n",
              "      flex-wrap:wrap;\n",
              "      gap: 12px;\n",
              "    }\n",
              "\n",
              "    .colab-df-convert {\n",
              "      background-color: #E8F0FE;\n",
              "      border: none;\n",
              "      border-radius: 50%;\n",
              "      cursor: pointer;\n",
              "      display: none;\n",
              "      fill: #1967D2;\n",
              "      height: 32px;\n",
              "      padding: 0 0 0 0;\n",
              "      width: 32px;\n",
              "    }\n",
              "\n",
              "    .colab-df-convert:hover {\n",
              "      background-color: #E2EBFA;\n",
              "      box-shadow: 0px 1px 2px rgba(60, 64, 67, 0.3), 0px 1px 3px 1px rgba(60, 64, 67, 0.15);\n",
              "      fill: #174EA6;\n",
              "    }\n",
              "\n",
              "    [theme=dark] .colab-df-convert {\n",
              "      background-color: #3B4455;\n",
              "      fill: #D2E3FC;\n",
              "    }\n",
              "\n",
              "    [theme=dark] .colab-df-convert:hover {\n",
              "      background-color: #434B5C;\n",
              "      box-shadow: 0px 1px 3px 1px rgba(0, 0, 0, 0.15);\n",
              "      filter: drop-shadow(0px 1px 2px rgba(0, 0, 0, 0.3));\n",
              "      fill: #FFFFFF;\n",
              "    }\n",
              "  </style>\n",
              "\n",
              "      <script>\n",
              "        const buttonEl =\n",
              "          document.querySelector('#df-88d0cc54-17a1-4705-be0a-8b8db56f223c button.colab-df-convert');\n",
              "        buttonEl.style.display =\n",
              "          google.colab.kernel.accessAllowed ? 'block' : 'none';\n",
              "\n",
              "        async function convertToInteractive(key) {\n",
              "          const element = document.querySelector('#df-88d0cc54-17a1-4705-be0a-8b8db56f223c');\n",
              "          const dataTable =\n",
              "            await google.colab.kernel.invokeFunction('convertToInteractive',\n",
              "                                                     [key], {});\n",
              "          if (!dataTable) return;\n",
              "\n",
              "          const docLinkHtml = 'Like what you see? Visit the ' +\n",
              "            '<a target=\"_blank\" href=https://colab.research.google.com/notebooks/data_table.ipynb>data table notebook</a>'\n",
              "            + ' to learn more about interactive tables.';\n",
              "          element.innerHTML = '';\n",
              "          dataTable['output_type'] = 'display_data';\n",
              "          await google.colab.output.renderOutput(dataTable, element);\n",
              "          const docLink = document.createElement('div');\n",
              "          docLink.innerHTML = docLinkHtml;\n",
              "          element.appendChild(docLink);\n",
              "        }\n",
              "      </script>\n",
              "    </div>\n",
              "  </div>\n",
              "  "
            ]
          },
          "metadata": {},
          "execution_count": 21
        }
      ]
    },
    {
      "cell_type": "code",
      "source": [
        "plt.scatter(taxi_train['fare_amount'], taxi_train['distance']);"
      ],
      "metadata": {
        "colab": {
          "base_uri": "https://localhost:8080/",
          "height": 265
        },
        "id": "G9eG_8jy2enX",
        "outputId": "aecb4f52-8d52-44b9-cf77-27b0bc0ebd59"
      },
      "execution_count": null,
      "outputs": [
        {
          "output_type": "display_data",
          "data": {
            "text/plain": [
              "<Figure size 432x288 with 1 Axes>"
            ],
            "image/png": "[encoded data removed]"
          },
          "metadata": {
            "needs_background": "light"
          }
        }
      ]
    },
    {
      "cell_type": "markdown",
      "source": [
        "# Modeling"
      ],
      "metadata": {
        "id": "p-VdS3rqzYc9"
      }
    },
    {
      "cell_type": "markdown",
      "source": [
        "## Linear Regression"
      ],
      "metadata": {
        "id": "RReYwv8z2lGD"
      }
    },
    {
      "cell_type": "code",
      "source": [
        "X = taxi_train.drop(columns = ['fare_amount', 'pickup_datetime', 'pickup_weekday'])\n",
        "y = taxi_train['fare_amount']"
      ],
      "metadata": {
        "id": "a-EEJcF22oUi"
      },
      "execution_count": 22,
      "outputs": []
    },
    {
      "cell_type": "code",
      "source": [
        "# split the data into train and test\n",
        "X_train, X_test , y_train, y_test = train_test_split(X, y, test_size=0.25, random_state=1)"
      ],
      "metadata": {
        "id": "62DfE76C_SCK"
      },
      "execution_count": 23,
      "outputs": []
    },
    {
      "cell_type": "code",
      "source": [
        "# Record the score between each model\n",
        "scores = []"
      ],
      "metadata": {
        "id": "J-aRBCVIcdxe"
      },
      "execution_count": 26,
      "outputs": []
    },
    {
      "cell_type": "code",
      "source": [
        "linear_model = LinearRegression(fit_intercept=True)\n",
        "linear_model.fit(X_train, y_train)"
      ],
      "metadata": {
        "colab": {
          "base_uri": "https://localhost:8080/"
        },
        "id": "9wGnkbPt_diL",
        "outputId": "e9ea5218-538a-462e-cb1a-acdf1688fae2"
      },
      "execution_count": 24,
      "outputs": [
        {
          "output_type": "execute_result",
          "data": {
            "text/plain": [
              "LinearRegression()"
            ]
          },
          "metadata": {},
          "execution_count": 24
        }
      ]
    },
    {
      "cell_type": "code",
      "source": [
        "yhat_train1 = linear_model.predict(X_train)\n",
        "yhat_test1 = linear_model.predict(X_test)\n",
        "print(linear_model.intercept_)\n",
        "print(linear_model.coef_)\n",
        "print('RMSE train:', mean_squared_error(y_train, yhat_train1, squared=False)) #RMSE\n",
        "print('RMSE test:', mean_squared_error(y_test, yhat_test1, squared=False)) #RMSE\n",
        "scores.append(mean_squared_error(y_test, yhat_test1, squared=False))"
      ],
      "metadata": {
        "colab": {
          "base_uri": "https://localhost:8080/"
        },
        "id": "28jlkx2H_il6",
        "outputId": "237f3db1-a88f-45ba-b27a-ea5ddf6adf61"
      },
      "execution_count": 27,
      "outputs": [
        {
          "output_type": "stream",
          "name": "stdout",
          "text": [
            "-3234.4663200340233\n",
            "[ 2.12908628e+01 -2.04122938e+01 -6.15533963e+01  6.70011502e-01\n",
            "  3.78764125e-02  1.82356136e+00  5.31963767e-01  7.44840776e-02\n",
            " -6.92237102e-02  2.35413324e-02 -4.16308207e-01  2.95986575e-01\n",
            " -4.31287866e-01  4.43497554e-01]\n",
            "RMSE train: 5.258602718473786\n",
            "RMSE test: 5.255952781787431\n"
          ]
        }
      ]
    },
    {
      "cell_type": "markdown",
      "source": [
        "## Regression Tree"
      ],
      "metadata": {
        "id": "4cTcvUu__uSb"
      }
    },
    {
      "cell_type": "code",
      "source": [
        "tree_model = DecisionTreeRegressor(max_leaf_nodes=7)\n",
        "tree_model.fit(X_train, y_train)"
      ],
      "metadata": {
        "colab": {
          "base_uri": "https://localhost:8080/"
        },
        "id": "yt8g5pg3_t2h",
        "outputId": "2a6880e2-6d85-4339-a1c3-8a3b1f4946b0"
      },
      "execution_count": 28,
      "outputs": [
        {
          "output_type": "execute_result",
          "data": {
            "text/plain": [
              "DecisionTreeRegressor(max_leaf_nodes=7)"
            ]
          },
          "metadata": {},
          "execution_count": 28
        }
      ]
    },
    {
      "cell_type": "code",
      "source": [
        "# draw tree model\n",
        "import pydot\n",
        "from IPython.display import Image\n",
        "def print_tree(estimator, features, class_names=None, filled=True):\n",
        "    tree = estimator\n",
        "    names = features\n",
        "    color = filled\n",
        "    classn = class_names\n",
        "    \n",
        "    dot_data = StringIO()\n",
        "    export_graphviz(estimator, out_file=dot_data, feature_names=features, class_names=classn, filled=filled)\n",
        "    graph = pydot.graph_from_dot_data(dot_data.getvalue())\n",
        "    return(graph)"
      ],
      "metadata": {
        "id": "BsqyuILA_3rA"
      },
      "execution_count": 29,
      "outputs": []
    },
    {
      "cell_type": "code",
      "source": [
        "graph, = print_tree(tree_model, features=list(X.columns))\n",
        "Image(graph.create_png())"
      ],
      "metadata": {
        "colab": {
          "base_uri": "https://localhost:8080/",
          "height": 458
        },
        "id": "pWeY2KVx_743",
        "outputId": "045da363-2438-486a-99b1-c3848162f55f"
      },
      "execution_count": 30,
      "outputs": [
        {
          "output_type": "execute_result",
          "data": {
            "image/png": "[encoded data removed]",
            "text/plain": [
              "<IPython.core.display.Image object>"
            ]
          },
          "metadata": {},
          "execution_count": 30
        }
      ]
    },
    {
      "cell_type": "code",
      "source": [
        "yhat_train2 = tree_model.predict(X_train)\n",
        "yhat_test2 = tree_model.predict(X_test)\n",
        "print('RMSE train:', mean_squared_error(y_train, yhat_train2, squared=False)) #RMSE\n",
        "print('RMSE test:', mean_squared_error(y_test, yhat_test2, squared=False)) #RMSE\n",
        "scores.append(mean_squared_error(y_test, yhat_test2, squared=False))"
      ],
      "metadata": {
        "colab": {
          "base_uri": "https://localhost:8080/"
        },
        "id": "05qOdICj_-po",
        "outputId": "00e5dbce-623f-4a27-bcce-0e780dd8148d"
      },
      "execution_count": 31,
      "outputs": [
        {
          "output_type": "stream",
          "name": "stdout",
          "text": [
            "RMSE train: 5.052195911036124\n",
            "RMSE test: 5.010949867230955\n"
          ]
        }
      ]
    },
    {
      "cell_type": "markdown",
      "source": [
        "## Random Forest"
      ],
      "metadata": {
        "id": "2mt_chilBlgA"
      }
    },
    {
      "cell_type": "code",
      "source": [
        "rf_model = RandomForestRegressor(n_estimators=50, random_state=1, max_depth=10,  max_features=0.5, min_samples_leaf=3 )\n",
        "rf_model.fit(X_train, y_train)"
      ],
      "metadata": {
        "colab": {
          "base_uri": "https://localhost:8080/"
        },
        "id": "uX1sE1b-BpG4",
        "outputId": "68996f34-4c00-4966-8344-55489b6a9b8f"
      },
      "execution_count": null,
      "outputs": [
        {
          "output_type": "execute_result",
          "data": {
            "text/plain": [
              "RandomForestRegressor(max_depth=10, max_features=0.5, min_samples_leaf=3,\n",
              "                      n_estimators=50, random_state=1)"
            ]
          },
          "metadata": {},
          "execution_count": 59
        }
      ]
    },
    {
      "cell_type": "code",
      "source": [
        "yhat_train3 = rf_model.predict(X_train)\n",
        "yhat_test3 = rf_model.predict(X_test)\n",
        "print('RMSE train:', mean_squared_error(y_train, yhat_train3, squared=False)) #RMSE\n",
        "print('RMSE test:', mean_squared_error(y_test, yhat_test3, squared=False)) #RMSE\n",
        "scores.append(mean_squared_error(y_test, yhat_test3, squared=False))"
      ],
      "metadata": {
        "colab": {
          "base_uri": "https://localhost:8080/"
        },
        "id": "rA5krN9zBulE",
        "outputId": "03e82d4d-7461-45b6-b6ad-77692d74ec1f"
      },
      "execution_count": null,
      "outputs": [
        {
          "output_type": "stream",
          "name": "stdout",
          "text": [
            "RMSE train: 3.784171139472436\n",
            "RMSE test: 3.8406717411970512\n"
          ]
        }
      ]
    },
    {
      "cell_type": "code",
      "source": [
        "# understand imprtance of each variable\n",
        "Importance_ = pd.DataFrame({'Importance':rf_model.feature_importances_*100}, index=X_train.columns)\n",
        "Importance = Importance_.sort_values('Importance', axis=0, ascending=False)[0:20]\n",
        "Importance.plot(kind='barh', color='b', ).invert_yaxis()\n",
        "print(Importance)\n",
        "plt.xlabel('Variable Importance')\n",
        "plt.gca().legend_ = None"
      ],
      "metadata": {
        "colab": {
          "base_uri": "https://localhost:8080/",
          "height": 547
        },
        "id": "4MQH-zyJbilA",
        "outputId": "dfc17b62-7cc4-4865-9813-5b10446b5066"
      },
      "execution_count": null,
      "outputs": [
        {
          "output_type": "stream",
          "name": "stdout",
          "text": [
            "                      Importance\n",
            "distance               65.211016\n",
            "time_square_distance   12.160013\n",
            "pickup_longitude        8.822100\n",
            "dropoff_longitude       3.167848\n",
            "jfk_distance            2.486032\n",
            "statue_distance         2.341849\n",
            "pickup_latitude         2.318577\n",
            "pickup_year             2.316698\n",
            "dropoff_latitude        0.796617\n",
            "pickup_hour             0.225404\n",
            "pickup_month            0.088559\n",
            "passenger_count         0.027171\n",
            "pickup_day              0.025595\n",
            "basic_fare              0.012522\n"
          ]
        },
        {
          "output_type": "display_data",
          "data": {
            "text/plain": [
              "<Figure size 432x288 with 1 Axes>"
            ],
            "image/png": "[encoded data removed]"
          },
          "metadata": {
            "needs_background": "light"
          }
        }
      ]
    },
    {
      "cell_type": "markdown",
      "source": [
        "## Boosting"
      ],
      "metadata": {
        "id": "o0c9OfDbBwSE"
      }
    },
    {
      "cell_type": "code",
      "source": [
        "boost_model = GradientBoostingRegressor(n_estimators=50, learning_rate=0.05,random_state=1)\n",
        "boost_model.fit(X_train, y_train)"
      ],
      "metadata": {
        "colab": {
          "base_uri": "https://localhost:8080/"
        },
        "id": "xeL1L76wBzG5",
        "outputId": "bb47aab3-4cd4-48e5-c18a-b351a5f3e64f"
      },
      "execution_count": 32,
      "outputs": [
        {
          "output_type": "execute_result",
          "data": {
            "text/plain": [
              "GradientBoostingRegressor(learning_rate=0.05, n_estimators=50, random_state=1)"
            ]
          },
          "metadata": {},
          "execution_count": 32
        }
      ]
    },
    {
      "cell_type": "code",
      "source": [
        "yhat_train4 = boost_model.predict(X_train)\n",
        "yhat_test4 = boost_model.predict(X_test)\n",
        "print('RMSE train:', mean_squared_error(y_train, yhat_train4, squared=False)) #RMSE\n",
        "print('RMSE test:', mean_squared_error(y_test, yhat_test4, squared=False)) #RMSE\n",
        "scores.append(mean_squared_error(y_test, yhat_test4, squared=False))"
      ],
      "metadata": {
        "id": "Pe8QzEUzB2tU",
        "colab": {
          "base_uri": "https://localhost:8080/"
        },
        "outputId": "391628bd-d94a-467d-8a47-c6d1bb5cef83"
      },
      "execution_count": 33,
      "outputs": [
        {
          "output_type": "stream",
          "name": "stdout",
          "text": [
            "RMSE train: 4.4658470311211325\n",
            "RMSE test: 4.4244386142635115\n"
          ]
        }
      ]
    },
    {
      "cell_type": "markdown",
      "source": [
        "## Neural Network"
      ],
      "metadata": {
        "id": "dQCGk9RAB43b"
      }
    },
    {
      "cell_type": "code",
      "source": [
        "nn_model = Sequential()\n",
        "nn_model.add(Dense(10, input_shape=(14, ), activation='relu', name='dense_1'))\n",
        "nn_model.add(Dense(5, activation='relu', name='dense_2'))\n",
        "nn_model.add(Dense(1, activation='linear', name='dense_output'))\n",
        "nn_model.compile(optimizer='adam', loss='mse')\n",
        "#https://keras.io/api/models/model_training_apis/\n",
        "nn_model.summary()"
      ],
      "metadata": {
        "id": "pvxpsPVaB7tR",
        "colab": {
          "base_uri": "https://localhost:8080/"
        },
        "outputId": "2b394f6d-44df-4872-8967-8d6986df2f9f"
      },
      "execution_count": null,
      "outputs": [
        {
          "output_type": "stream",
          "name": "stdout",
          "text": [
            "Model: \"sequential_1\"\n",
            "_________________________________________________________________\n",
            " Layer (type)                Output Shape              Param #   \n",
            "=================================================================\n",
            " dense_1 (Dense)             (None, 10)                150       \n",
            "                                                                 \n",
            " dense_2 (Dense)             (None, 5)                 55        \n",
            "                                                                 \n",
            " dense_output (Dense)        (None, 1)                 6         \n",
            "                                                                 \n",
            "=================================================================\n",
            "Total params: 211\n",
            "Trainable params: 211\n",
            "Non-trainable params: 0\n",
            "_________________________________________________________________\n"
          ]
        }
      ]
    },
    {
      "cell_type": "code",
      "source": [
        "nn_model_fit = nn_model.fit(X_train, y_train, epochs=5, validation_split=0.05)"
      ],
      "metadata": {
        "id": "_8_JlT1vB_lm",
        "colab": {
          "base_uri": "https://localhost:8080/"
        },
        "outputId": "23d73d7a-6b39-4412-9d0e-1cfeadd5deab"
      },
      "execution_count": null,
      "outputs": [
        {
          "output_type": "stream",
          "name": "stdout",
          "text": [
            "Epoch 1/5\n",
            "120453/120453 [==============================] - 282s 2ms/step - loss: 33.5275 - val_loss: 26.9555\n",
            "Epoch 2/5\n",
            "120453/120453 [==============================] - 258s 2ms/step - loss: 24.4888 - val_loss: 25.1770\n",
            "Epoch 3/5\n",
            "120453/120453 [==============================] - 245s 2ms/step - loss: 24.0024 - val_loss: 24.3960\n",
            "Epoch 4/5\n",
            "120453/120453 [==============================] - 268s 2ms/step - loss: 23.6555 - val_loss: 25.2250\n",
            "Epoch 5/5\n",
            "120453/120453 [==============================] - 289s 2ms/step - loss: 23.5244 - val_loss: 24.0928\n"
          ]
        }
      ]
    },
    {
      "cell_type": "code",
      "source": [
        "import plotly.graph_objects as go\n",
        "fig = go.Figure()\n",
        "fig.add_trace(go.Scattergl(y=nn_model_fit.history['loss'],\n",
        "                    name='Train'))\n",
        "fig.add_trace(go.Scattergl(y=nn_model_fit.history['val_loss'],\n",
        "                    name='Valid'))\n",
        "fig.update_layout(height=500, width=700,\n",
        "                  xaxis_title='Epoch',\n",
        "                  yaxis_title='Loss')\n",
        "fig.show()"
      ],
      "metadata": {
        "colab": {
          "base_uri": "https://localhost:8080/",
          "height": 517
        },
        "id": "jR0rkeMkY9Wn",
        "outputId": "b369896e-efed-479a-e854-513a2ba29df1"
      },
      "execution_count": null,
      "outputs": [
        {
          "output_type": "display_data",
          "data": {
            "text/html": [
              "<html>\n",
              "<head><meta charset=\"utf-8\" /></head>\n",
              "<body>\n",
              "    <div>            <script src=\"https://cdnjs.cloudflare.com/ajax/libs/mathjax/2.7.5/MathJax.js?config=TeX-AMS-MML_SVG\"></script><script type=\"text/javascript\">if (window.MathJax) {MathJax.Hub.Config({SVG: {font: \"STIX-Web\"}});}</script>                <script type=\"text/javascript\">window.PlotlyConfig = {MathJaxConfig: 'local'};</script>\n",
              "        <script src=\"https://cdn.plot.ly/plotly-2.8.3.min.js\"></script>                <div id=\"0802173b-2ff8-45b1-bf38-0eab080fa044\" class=\"plotly-graph-div\" style=\"height:500px; width:700px;\"></div>            <script type=\"text/javascript\">                                    window.PLOTLYENV=window.PLOTLYENV || {};                                    if (document.getElementById(\"0802173b-2ff8-45b1-bf38-0eab080fa044\")) {                    Plotly.newPlot(                        \"0802173b-2ff8-45b1-bf38-0eab080fa044\",                        [{\"name\":\"Train\",\"y\":[33.52745819091797,24.488801956176758,24.00242042541504,23.655487060546875,23.524446487426758],\"type\":\"scattergl\"},{\"name\":\"Valid\",\"y\":[26.955549240112305,25.177011489868164,24.395959854125977,25.22501564025879,24.092802047729492],\"type\":\"scattergl\"}],                        {\"template\":{\"data\":{\"bar\":[{\"error_x\":{\"color\":\"#2a3f5f\"},\"error_y\":{\"color\":\"#2a3f5f\"},\"marker\":{\"line\":{\"color\":\"#E5ECF6\",\"width\":0.5},\"pattern\":{\"fillmode\":\"overlay\",\"size\":10,\"solidity\":0.2}},\"type\":\"bar\"}],\"barpolar\":[{\"marker\":{\"line\":{\"color\":\"#E5ECF6\",\"width\":0.5},\"pattern\":{\"fillmode\":\"overlay\",\"size\":10,\"solidity\":0.2}},\"type\":\"barpolar\"}],\"carpet\":[{\"aaxis\":{\"endlinecolor\":\"#2a3f5f\",\"gridcolor\":\"white\",\"linecolor\":\"white\",\"minorgridcolor\":\"white\",\"startlinecolor\":\"#2a3f5f\"},\"baxis\":{\"endlinecolor\":\"#2a3f5f\",\"gridcolor\":\"white\",\"linecolor\":\"white\",\"minorgridcolor\":\"white\",\"startlinecolor\":\"#2a3f5f\"},\"type\":\"carpet\"}],\"choropleth\":[{\"colorbar\":{\"outlinewidth\":0,\"ticks\":\"\"},\"type\":\"choropleth\"}],\"contour\":[{\"colorbar\":{\"outlinewidth\":0,\"ticks\":\"\"},\"colorscale\":[[0.0,\"#0d0887\"],[0.1111111111111111,\"#46039f\"],[0.2222222222222222,\"#7201a8\"],[0.3333333333333333,\"#9c179e\"],[0.4444444444444444,\"#bd3786\"],[0.5555555555555556,\"#d8576b\"],[0.6666666666666666,\"#ed7953\"],[0.7777777777777778,\"#fb9f3a\"],[0.8888888888888888,\"#fdca26\"],[1.0,\"#f0f921\"]],\"type\":\"contour\"}],\"contourcarpet\":[{\"colorbar\":{\"outlinewidth\":0,\"ticks\":\"\"},\"type\":\"contourcarpet\"}],\"heatmap\":[{\"colorbar\":{\"outlinewidth\":0,\"ticks\":\"\"},\"colorscale\":[[0.0,\"#0d0887\"],[0.1111111111111111,\"#46039f\"],[0.2222222222222222,\"#7201a8\"],[0.3333333333333333,\"#9c179e\"],[0.4444444444444444,\"#bd3786\"],[0.5555555555555556,\"#d8576b\"],[0.6666666666666666,\"#ed7953\"],[0.7777777777777778,\"#fb9f3a\"],[0.8888888888888888,\"#fdca26\"],[1.0,\"#f0f921\"]],\"type\":\"heatmap\"}],\"heatmapgl\":[{\"colorbar\":{\"outlinewidth\":0,\"ticks\":\"\"},\"colorscale\":[[0.0,\"#0d0887\"],[0.1111111111111111,\"#46039f\"],[0.2222222222222222,\"#7201a8\"],[0.3333333333333333,\"#9c179e\"],[0.4444444444444444,\"#bd3786\"],[0.5555555555555556,\"#d8576b\"],[0.6666666666666666,\"#ed7953\"],[0.7777777777777778,\"#fb9f3a\"],[0.8888888888888888,\"#fdca26\"],[1.0,\"#f0f921\"]],\"type\":\"heatmapgl\"}],\"histogram\":[{\"marker\":{\"pattern\":{\"fillmode\":\"overlay\",\"size\":10,\"solidity\":0.2}},\"type\":\"histogram\"}],\"histogram2d\":[{\"colorbar\":{\"outlinewidth\":0,\"ticks\":\"\"},\"colorscale\":[[0.0,\"#0d0887\"],[0.1111111111111111,\"#46039f\"],[0.2222222222222222,\"#7201a8\"],[0.3333333333333333,\"#9c179e\"],[0.4444444444444444,\"#bd3786\"],[0.5555555555555556,\"#d8576b\"],[0.6666666666666666,\"#ed7953\"],[0.7777777777777778,\"#fb9f3a\"],[0.8888888888888888,\"#fdca26\"],[1.0,\"#f0f921\"]],\"type\":\"histogram2d\"}],\"histogram2dcontour\":[{\"colorbar\":{\"outlinewidth\":0,\"ticks\":\"\"},\"colorscale\":[[0.0,\"#0d0887\"],[0.1111111111111111,\"#46039f\"],[0.2222222222222222,\"#7201a8\"],[0.3333333333333333,\"#9c179e\"],[0.4444444444444444,\"#bd3786\"],[0.5555555555555556,\"#d8576b\"],[0.6666666666666666,\"#ed7953\"],[0.7777777777777778,\"#fb9f3a\"],[0.8888888888888888,\"#fdca26\"],[1.0,\"#f0f921\"]],\"type\":\"histogram2dcontour\"}],\"mesh3d\":[{\"colorbar\":{\"outlinewidth\":0,\"ticks\":\"\"},\"type\":\"mesh3d\"}],\"parcoords\":[{\"line\":{\"colorbar\":{\"outlinewidth\":0,\"ticks\":\"\"}},\"type\":\"parcoords\"}],\"pie\":[{\"automargin\":true,\"type\":\"pie\"}],\"scatter\":[{\"marker\":{\"colorbar\":{\"outlinewidth\":0,\"ticks\":\"\"}},\"type\":\"scatter\"}],\"scatter3d\":[{\"line\":{\"colorbar\":{\"outlinewidth\":0,\"ticks\":\"\"}},\"marker\":{\"colorbar\":{\"outlinewidth\":0,\"ticks\":\"\"}},\"type\":\"scatter3d\"}],\"scattercarpet\":[{\"marker\":{\"colorbar\":{\"outlinewidth\":0,\"ticks\":\"\"}},\"type\":\"scattercarpet\"}],\"scattergeo\":[{\"marker\":{\"colorbar\":{\"outlinewidth\":0,\"ticks\":\"\"}},\"type\":\"scattergeo\"}],\"scattergl\":[{\"marker\":{\"colorbar\":{\"outlinewidth\":0,\"ticks\":\"\"}},\"type\":\"scattergl\"}],\"scattermapbox\":[{\"marker\":{\"colorbar\":{\"outlinewidth\":0,\"ticks\":\"\"}},\"type\":\"scattermapbox\"}],\"scatterpolar\":[{\"marker\":{\"colorbar\":{\"outlinewidth\":0,\"ticks\":\"\"}},\"type\":\"scatterpolar\"}],\"scatterpolargl\":[{\"marker\":{\"colorbar\":{\"outlinewidth\":0,\"ticks\":\"\"}},\"type\":\"scatterpolargl\"}],\"scatterternary\":[{\"marker\":{\"colorbar\":{\"outlinewidth\":0,\"ticks\":\"\"}},\"type\":\"scatterternary\"}],\"surface\":[{\"colorbar\":{\"outlinewidth\":0,\"ticks\":\"\"},\"colorscale\":[[0.0,\"#0d0887\"],[0.1111111111111111,\"#46039f\"],[0.2222222222222222,\"#7201a8\"],[0.3333333333333333,\"#9c179e\"],[0.4444444444444444,\"#bd3786\"],[0.5555555555555556,\"#d8576b\"],[0.6666666666666666,\"#ed7953\"],[0.7777777777777778,\"#fb9f3a\"],[0.8888888888888888,\"#fdca26\"],[1.0,\"#f0f921\"]],\"type\":\"surface\"}],\"table\":[{\"cells\":{\"fill\":{\"color\":\"#EBF0F8\"},\"line\":{\"color\":\"white\"}},\"header\":{\"fill\":{\"color\":\"#C8D4E3\"},\"line\":{\"color\":\"white\"}},\"type\":\"table\"}]},\"layout\":{\"annotationdefaults\":{\"arrowcolor\":\"#2a3f5f\",\"arrowhead\":0,\"arrowwidth\":1},\"autotypenumbers\":\"strict\",\"coloraxis\":{\"colorbar\":{\"outlinewidth\":0,\"ticks\":\"\"}},\"colorscale\":{\"diverging\":[[0,\"#8e0152\"],[0.1,\"#c51b7d\"],[0.2,\"#de77ae\"],[0.3,\"#f1b6da\"],[0.4,\"#fde0ef\"],[0.5,\"#f7f7f7\"],[0.6,\"#e6f5d0\"],[0.7,\"#b8e186\"],[0.8,\"#7fbc41\"],[0.9,\"#4d9221\"],[1,\"#276419\"]],\"sequential\":[[0.0,\"#0d0887\"],[0.1111111111111111,\"#46039f\"],[0.2222222222222222,\"#7201a8\"],[0.3333333333333333,\"#9c179e\"],[0.4444444444444444,\"#bd3786\"],[0.5555555555555556,\"#d8576b\"],[0.6666666666666666,\"#ed7953\"],[0.7777777777777778,\"#fb9f3a\"],[0.8888888888888888,\"#fdca26\"],[1.0,\"#f0f921\"]],\"sequentialminus\":[[0.0,\"#0d0887\"],[0.1111111111111111,\"#46039f\"],[0.2222222222222222,\"#7201a8\"],[0.3333333333333333,\"#9c179e\"],[0.4444444444444444,\"#bd3786\"],[0.5555555555555556,\"#d8576b\"],[0.6666666666666666,\"#ed7953\"],[0.7777777777777778,\"#fb9f3a\"],[0.8888888888888888,\"#fdca26\"],[1.0,\"#f0f921\"]]},\"colorway\":[\"#636efa\",\"#EF553B\",\"#00cc96\",\"#ab63fa\",\"#FFA15A\",\"#19d3f3\",\"#FF6692\",\"#B6E880\",\"#FF97FF\",\"#FECB52\"],\"font\":{\"color\":\"#2a3f5f\"},\"geo\":{\"bgcolor\":\"white\",\"lakecolor\":\"white\",\"landcolor\":\"#E5ECF6\",\"showlakes\":true,\"showland\":true,\"subunitcolor\":\"white\"},\"hoverlabel\":{\"align\":\"left\"},\"hovermode\":\"closest\",\"mapbox\":{\"style\":\"light\"},\"paper_bgcolor\":\"white\",\"plot_bgcolor\":\"#E5ECF6\",\"polar\":{\"angularaxis\":{\"gridcolor\":\"white\",\"linecolor\":\"white\",\"ticks\":\"\"},\"bgcolor\":\"#E5ECF6\",\"radialaxis\":{\"gridcolor\":\"white\",\"linecolor\":\"white\",\"ticks\":\"\"}},\"scene\":{\"xaxis\":{\"backgroundcolor\":\"#E5ECF6\",\"gridcolor\":\"white\",\"gridwidth\":2,\"linecolor\":\"white\",\"showbackground\":true,\"ticks\":\"\",\"zerolinecolor\":\"white\"},\"yaxis\":{\"backgroundcolor\":\"#E5ECF6\",\"gridcolor\":\"white\",\"gridwidth\":2,\"linecolor\":\"white\",\"showbackground\":true,\"ticks\":\"\",\"zerolinecolor\":\"white\"},\"zaxis\":{\"backgroundcolor\":\"#E5ECF6\",\"gridcolor\":\"white\",\"gridwidth\":2,\"linecolor\":\"white\",\"showbackground\":true,\"ticks\":\"\",\"zerolinecolor\":\"white\"}},\"shapedefaults\":{\"line\":{\"color\":\"#2a3f5f\"}},\"ternary\":{\"aaxis\":{\"gridcolor\":\"white\",\"linecolor\":\"white\",\"ticks\":\"\"},\"baxis\":{\"gridcolor\":\"white\",\"linecolor\":\"white\",\"ticks\":\"\"},\"bgcolor\":\"#E5ECF6\",\"caxis\":{\"gridcolor\":\"white\",\"linecolor\":\"white\",\"ticks\":\"\"}},\"title\":{\"x\":0.05},\"xaxis\":{\"automargin\":true,\"gridcolor\":\"white\",\"linecolor\":\"white\",\"ticks\":\"\",\"title\":{\"standoff\":15},\"zerolinecolor\":\"white\",\"zerolinewidth\":2},\"yaxis\":{\"automargin\":true,\"gridcolor\":\"white\",\"linecolor\":\"white\",\"ticks\":\"\",\"title\":{\"standoff\":15},\"zerolinecolor\":\"white\",\"zerolinewidth\":2}}},\"height\":500,\"width\":700,\"xaxis\":{\"title\":{\"text\":\"Epoch\"}},\"yaxis\":{\"title\":{\"text\":\"Loss\"}}},                        {\"responsive\": true}                    ).then(function(){\n",
              "                            \n",
              "var gd = document.getElementById('0802173b-2ff8-45b1-bf38-0eab080fa044');\n",
              "var x = new MutationObserver(function (mutations, observer) {{\n",
              "        var display = window.getComputedStyle(gd).display;\n",
              "        if (!display || display === 'none') {{\n",
              "            console.log([gd, 'removed!']);\n",
              "            Plotly.purge(gd);\n",
              "            observer.disconnect();\n",
              "        }}\n",
              "}});\n",
              "\n",
              "// Listen for the removal of the full notebook cells\n",
              "var notebookContainer = gd.closest('#notebook-container');\n",
              "if (notebookContainer) {{\n",
              "    x.observe(notebookContainer, {childList: true});\n",
              "}}\n",
              "\n",
              "// Listen for the clearing of the current output cell\n",
              "var outputEl = gd.closest('.output');\n",
              "if (outputEl) {{\n",
              "    x.observe(outputEl, {childList: true});\n",
              "}}\n",
              "\n",
              "                        })                };                            </script>        </div>\n",
              "</body>\n",
              "</html>"
            ]
          },
          "metadata": {}
        }
      ]
    },
    {
      "cell_type": "code",
      "source": [
        "yhat_train5 = nn_model.predict(X_train)\n",
        "yhat_test5 = nn_model.predict(X_test)\n",
        "print('RMSE train:', mean_squared_error(y_train, yhat_train5, squared=False)) #RMSE\n",
        "print('RMSE test:', mean_squared_error(y_test, yhat_test5, squared=False)) #RMSE\n",
        "scores.append(mean_squared_error(y_test, yhat_test5, squared=False))"
      ],
      "metadata": {
        "id": "7mKb3dHVCB-N",
        "colab": {
          "base_uri": "https://localhost:8080/"
        },
        "outputId": "92129b0e-2179-4acf-ac73-2b077d73ac0f"
      },
      "execution_count": null,
      "outputs": [
        {
          "output_type": "stream",
          "name": "stdout",
          "text": [
            "126792/126792 [==============================] - 195s 2ms/step\n",
            "42264/42264 [==============================] - 67s 2ms/step\n",
            "RMSE train: 4.80866\n",
            "RMSE test: 4.798139\n"
          ]
        }
      ]
    },
    {
      "cell_type": "code",
      "source": [
        "# Plot the predictions for each model\n",
        "sns.set_style(\"white\")\n",
        "fig = plt.figure(figsize=(16, 8))\n",
        "\n",
        "ax = sns.pointplot(x=list(scores.keys()), y=[score for score, _ in scores.values()], markers=['o'], linestyles=['-'])\n",
        "for i, score in enumerate(scores.values()):\n",
        "    ax.text(i, score[0] + 0.002, '{:.6f}'.format(score[0]), horizontalalignment='left', size='large', color='black', weight='semibold')\n",
        "\n",
        "plt.ylabel('Score (RMSE)', size=20, labelpad=12.5)\n",
        "plt.xlabel('Model', size=20, labelpad=12.5)\n",
        "plt.tick_params(axis='x', labelsize=13.5)\n",
        "plt.tick_params(axis='y', labelsize=12.5)\n",
        "\n",
        "plt.title('Scores of Models', size=20)\n",
        "\n",
        "plt.show()"
      ],
      "metadata": {
        "id": "S9mT393jqP4R"
      },
      "execution_count": null,
      "outputs": []
    },
    {
      "cell_type": "markdown",
      "source": [
        "## Predict Keggle Test DataSet"
      ],
      "metadata": {
        "id": "yhkN__E0M3v_"
      }
    },
    {
      "cell_type": "code",
      "source": [
        "taxi_test = pd.read_csv(data_dir+'/test.csv', dtype=dtypes, parse_dates=['pickup_datetime'])\n",
        "taxi_test.head()"
      ],
      "metadata": {
        "colab": {
          "base_uri": "https://localhost:8080/",
          "height": 206
        },
        "id": "PyYFyXFeM8qb",
        "outputId": "f7fef715-f072-4819-d233-d4414c2b7196"
      },
      "execution_count": null,
      "outputs": [
        {
          "output_type": "execute_result",
          "data": {
            "text/plain": [
              "                           key           pickup_datetime  pickup_longitude  \\\n",
              "0  2015-01-27 13:08:24.0000002 2015-01-27 13:08:24+00:00        -73.973320   \n",
              "1  2015-01-27 13:08:24.0000003 2015-01-27 13:08:24+00:00        -73.986862   \n",
              "2  2011-10-08 11:53:44.0000002 2011-10-08 11:53:44+00:00        -73.982521   \n",
              "3  2012-12-01 21:12:12.0000002 2012-12-01 21:12:12+00:00        -73.981163   \n",
              "4  2012-12-01 21:12:12.0000003 2012-12-01 21:12:12+00:00        -73.966049   \n",
              "\n",
              "   pickup_latitude  dropoff_longitude  dropoff_latitude  passenger_count  \n",
              "0        40.763805         -73.981430         40.743835              1.0  \n",
              "1        40.719383         -73.998886         40.739201              1.0  \n",
              "2        40.751259         -73.979652         40.746139              1.0  \n",
              "3        40.767807         -73.990448         40.751635              1.0  \n",
              "4        40.789776         -73.988564         40.744427              1.0  "
            ],
            "text/html": [
              "\n",
              "  <div id=\"df-3708da1c-a2dd-46d7-ab7f-d59d3c7be7a3\">\n",
              "    <div class=\"colab-df-container\">\n",
              "      <div>\n",
              "<style scoped>\n",
              "    .dataframe tbody tr th:only-of-type {\n",
              "        vertical-align: middle;\n",
              "    }\n",
              "\n",
              "    .dataframe tbody tr th {\n",
              "        vertical-align: top;\n",
              "    }\n",
              "\n",
              "    .dataframe thead th {\n",
              "        text-align: right;\n",
              "    }\n",
              "</style>\n",
              "<table border=\"1\" class=\"dataframe\">\n",
              "  <thead>\n",
              "    <tr style=\"text-align: right;\">\n",
              "      <th></th>\n",
              "      <th>key</th>\n",
              "      <th>pickup_datetime</th>\n",
              "      <th>pickup_longitude</th>\n",
              "      <th>pickup_latitude</th>\n",
              "      <th>dropoff_longitude</th>\n",
              "      <th>dropoff_latitude</th>\n",
              "      <th>passenger_count</th>\n",
              "    </tr>\n",
              "  </thead>\n",
              "  <tbody>\n",
              "    <tr>\n",
              "      <th>0</th>\n",
              "      <td>2015-01-27 13:08:24.0000002</td>\n",
              "      <td>2015-01-27 13:08:24+00:00</td>\n",
              "      <td>-73.973320</td>\n",
              "      <td>40.763805</td>\n",
              "      <td>-73.981430</td>\n",
              "      <td>40.743835</td>\n",
              "      <td>1.0</td>\n",
              "    </tr>\n",
              "    <tr>\n",
              "      <th>1</th>\n",
              "      <td>2015-01-27 13:08:24.0000003</td>\n",
              "      <td>2015-01-27 13:08:24+00:00</td>\n",
              "      <td>-73.986862</td>\n",
              "      <td>40.719383</td>\n",
              "      <td>-73.998886</td>\n",
              "      <td>40.739201</td>\n",
              "      <td>1.0</td>\n",
              "    </tr>\n",
              "    <tr>\n",
              "      <th>2</th>\n",
              "      <td>2011-10-08 11:53:44.0000002</td>\n",
              "      <td>2011-10-08 11:53:44+00:00</td>\n",
              "      <td>-73.982521</td>\n",
              "      <td>40.751259</td>\n",
              "      <td>-73.979652</td>\n",
              "      <td>40.746139</td>\n",
              "      <td>1.0</td>\n",
              "    </tr>\n",
              "    <tr>\n",
              "      <th>3</th>\n",
              "      <td>2012-12-01 21:12:12.0000002</td>\n",
              "      <td>2012-12-01 21:12:12+00:00</td>\n",
              "      <td>-73.981163</td>\n",
              "      <td>40.767807</td>\n",
              "      <td>-73.990448</td>\n",
              "      <td>40.751635</td>\n",
              "      <td>1.0</td>\n",
              "    </tr>\n",
              "    <tr>\n",
              "      <th>4</th>\n",
              "      <td>2012-12-01 21:12:12.0000003</td>\n",
              "      <td>2012-12-01 21:12:12+00:00</td>\n",
              "      <td>-73.966049</td>\n",
              "      <td>40.789776</td>\n",
              "      <td>-73.988564</td>\n",
              "      <td>40.744427</td>\n",
              "      <td>1.0</td>\n",
              "    </tr>\n",
              "  </tbody>\n",
              "</table>\n",
              "</div>\n",
              "      <button class=\"colab-df-convert\" onclick=\"convertToInteractive('df-3708da1c-a2dd-46d7-ab7f-d59d3c7be7a3')\"\n",
              "              title=\"Convert this dataframe to an interactive table.\"\n",
              "              style=\"display:none;\">\n",
              "        \n",
              "  <svg xmlns=\"http://www.w3.org/2000/svg\" height=\"24px\"viewBox=\"0 0 24 24\"\n",
              "       width=\"24px\">\n",
              "    <path d=\"M0 0h24v24H0V0z\" fill=\"none\"/>\n",
              "    <path d=\"M18.56 5.44l.94 2.06.94-2.06 2.06-.94-2.06-.94-.94-2.06-.94 2.06-2.06.94zm-11 1L8.5 8.5l.94-2.06 2.06-.94-2.06-.94L8.5 2.5l-.94 2.06-2.06.94zm10 10l.94 2.06.94-2.06 2.06-.94-2.06-.94-.94-2.06-.94 2.06-2.06.94z\"/><path d=\"M17.41 7.96l-1.37-1.37c-.4-.4-.92-.59-1.43-.59-.52 0-1.04.2-1.43.59L10.3 9.45l-7.72 7.72c-.78.78-.78 2.05 0 2.83L4 21.41c.39.39.9.59 1.41.59.51 0 1.02-.2 1.41-.59l7.78-7.78 2.81-2.81c.8-.78.8-2.07 0-2.86zM5.41 20L4 18.59l7.72-7.72 1.47 1.35L5.41 20z\"/>\n",
              "  </svg>\n",
              "      </button>\n",
              "      \n",
              "  <style>\n",
              "    .colab-df-container {\n",
              "      display:flex;\n",
              "      flex-wrap:wrap;\n",
              "      gap: 12px;\n",
              "    }\n",
              "\n",
              "    .colab-df-convert {\n",
              "      background-color: #E8F0FE;\n",
              "      border: none;\n",
              "      border-radius: 50%;\n",
              "      cursor: pointer;\n",
              "      display: none;\n",
              "      fill: #1967D2;\n",
              "      height: 32px;\n",
              "      padding: 0 0 0 0;\n",
              "      width: 32px;\n",
              "    }\n",
              "\n",
              "    .colab-df-convert:hover {\n",
              "      background-color: #E2EBFA;\n",
              "      box-shadow: 0px 1px 2px rgba(60, 64, 67, 0.3), 0px 1px 3px 1px rgba(60, 64, 67, 0.15);\n",
              "      fill: #174EA6;\n",
              "    }\n",
              "\n",
              "    [theme=dark] .colab-df-convert {\n",
              "      background-color: #3B4455;\n",
              "      fill: #D2E3FC;\n",
              "    }\n",
              "\n",
              "    [theme=dark] .colab-df-convert:hover {\n",
              "      background-color: #434B5C;\n",
              "      box-shadow: 0px 1px 3px 1px rgba(0, 0, 0, 0.15);\n",
              "      filter: drop-shadow(0px 1px 2px rgba(0, 0, 0, 0.3));\n",
              "      fill: #FFFFFF;\n",
              "    }\n",
              "  </style>\n",
              "\n",
              "      <script>\n",
              "        const buttonEl =\n",
              "          document.querySelector('#df-3708da1c-a2dd-46d7-ab7f-d59d3c7be7a3 button.colab-df-convert');\n",
              "        buttonEl.style.display =\n",
              "          google.colab.kernel.accessAllowed ? 'block' : 'none';\n",
              "\n",
              "        async function convertToInteractive(key) {\n",
              "          const element = document.querySelector('#df-3708da1c-a2dd-46d7-ab7f-d59d3c7be7a3');\n",
              "          const dataTable =\n",
              "            await google.colab.kernel.invokeFunction('convertToInteractive',\n",
              "                                                     [key], {});\n",
              "          if (!dataTable) return;\n",
              "\n",
              "          const docLinkHtml = 'Like what you see? Visit the ' +\n",
              "            '<a target=\"_blank\" href=https://colab.research.google.com/notebooks/data_table.ipynb>data table notebook</a>'\n",
              "            + ' to learn more about interactive tables.';\n",
              "          element.innerHTML = '';\n",
              "          dataTable['output_type'] = 'display_data';\n",
              "          await google.colab.output.renderOutput(dataTable, element);\n",
              "          const docLink = document.createElement('div');\n",
              "          docLink.innerHTML = docLinkHtml;\n",
              "          element.appendChild(docLink);\n",
              "        }\n",
              "      </script>\n",
              "    </div>\n",
              "  </div>\n",
              "  "
            ]
          },
          "metadata": {},
          "execution_count": 63
        }
      ]
    },
    {
      "cell_type": "code",
      "source": [
        "# generate features for test data\n",
        "taxi_test['distance'] = haversine(taxi_test['pickup_longitude'], taxi_test['pickup_latitude'], \n",
        "                                   taxi_test['dropoff_longitude'], taxi_test['dropoff_latitude'])\n",
        "taxi_test['pickup_datetime'] = pd.to_datetime(taxi_test.pickup_datetime)\n",
        "taxi_test['pickup_year'] = taxi_test['pickup_datetime'].dt.year\n",
        "taxi_test['pickup_month'] = taxi_test['pickup_datetime'].dt.month\n",
        "taxi_test['pickup_day'] = taxi_test['pickup_datetime'].dt.day\n",
        "taxi_test['pickup_hour'] = taxi_test['pickup_datetime'].dt.hour\n",
        "taxi_test['pickup_day'] = taxi_test['pickup_datetime'].dt.dayofweek\n",
        "conditions = [(taxi_test['pickup_hour'] >= 20) & (taxi_test['pickup_hour'] < 24),\n",
        "            (taxi_test['pickup_hour'] >= 16) & (taxi_test['pickup_hour'] < 20) & (taxi_test['pickup_day'] >= 0) & (taxi_test['pickup_day'] <= 4)]\n",
        "choices = [3,3.5]\n",
        "taxi_test['basic_fare'] = np.select(conditions, choices, default=2.5)\n",
        "add_landmarks(taxi_test)"
      ],
      "metadata": {
        "id": "ekuGFuItSMae"
      },
      "execution_count": null,
      "outputs": []
    },
    {
      "cell_type": "code",
      "source": [
        "taxi_X_test = taxi_test.drop(columns = ['key', 'pickup_datetime'])"
      ],
      "metadata": {
        "id": "7r7iD_HpVnu7"
      },
      "execution_count": null,
      "outputs": []
    },
    {
      "cell_type": "code",
      "source": [
        "taxi_test_predict = rf_model.predict(taxi_X_test)"
      ],
      "metadata": {
        "id": "H9DNHxWzSnGc"
      },
      "execution_count": null,
      "outputs": []
    },
    {
      "cell_type": "code",
      "source": [
        "submit = pd.DataFrame(taxi_test['key'])\n",
        "submit"
      ],
      "metadata": {
        "colab": {
          "base_uri": "https://localhost:8080/",
          "height": 424
        },
        "id": "ArOKc5g4WnMe",
        "outputId": "ee132ef8-24ab-4bf9-9767-7d91700e8609"
      },
      "execution_count": null,
      "outputs": [
        {
          "output_type": "execute_result",
          "data": {
            "text/plain": [
              "                              key\n",
              "0     2015-01-27 13:08:24.0000002\n",
              "1     2015-01-27 13:08:24.0000003\n",
              "2     2011-10-08 11:53:44.0000002\n",
              "3     2012-12-01 21:12:12.0000002\n",
              "4     2012-12-01 21:12:12.0000003\n",
              "...                           ...\n",
              "9909  2015-05-10 12:37:51.0000002\n",
              "9910  2015-01-12 17:05:51.0000001\n",
              "9911  2015-04-19 20:44:15.0000001\n",
              "9912  2015-01-31 01:05:19.0000005\n",
              "9913  2015-01-18 14:06:23.0000006\n",
              "\n",
              "[9914 rows x 1 columns]"
            ],
            "text/html": [
              "\n",
              "  <div id=\"df-7373a0e1-974d-41ba-922d-ba0134bc6fd1\">\n",
              "    <div class=\"colab-df-container\">\n",
              "      <div>\n",
              "<style scoped>\n",
              "    .dataframe tbody tr th:only-of-type {\n",
              "        vertical-align: middle;\n",
              "    }\n",
              "\n",
              "    .dataframe tbody tr th {\n",
              "        vertical-align: top;\n",
              "    }\n",
              "\n",
              "    .dataframe thead th {\n",
              "        text-align: right;\n",
              "    }\n",
              "</style>\n",
              "<table border=\"1\" class=\"dataframe\">\n",
              "  <thead>\n",
              "    <tr style=\"text-align: right;\">\n",
              "      <th></th>\n",
              "      <th>key</th>\n",
              "    </tr>\n",
              "  </thead>\n",
              "  <tbody>\n",
              "    <tr>\n",
              "      <th>0</th>\n",
              "      <td>2015-01-27 13:08:24.0000002</td>\n",
              "    </tr>\n",
              "    <tr>\n",
              "      <th>1</th>\n",
              "      <td>2015-01-27 13:08:24.0000003</td>\n",
              "    </tr>\n",
              "    <tr>\n",
              "      <th>2</th>\n",
              "      <td>2011-10-08 11:53:44.0000002</td>\n",
              "    </tr>\n",
              "    <tr>\n",
              "      <th>3</th>\n",
              "      <td>2012-12-01 21:12:12.0000002</td>\n",
              "    </tr>\n",
              "    <tr>\n",
              "      <th>4</th>\n",
              "      <td>2012-12-01 21:12:12.0000003</td>\n",
              "    </tr>\n",
              "    <tr>\n",
              "      <th>...</th>\n",
              "      <td>...</td>\n",
              "    </tr>\n",
              "    <tr>\n",
              "      <th>9909</th>\n",
              "      <td>2015-05-10 12:37:51.0000002</td>\n",
              "    </tr>\n",
              "    <tr>\n",
              "      <th>9910</th>\n",
              "      <td>2015-01-12 17:05:51.0000001</td>\n",
              "    </tr>\n",
              "    <tr>\n",
              "      <th>9911</th>\n",
              "      <td>2015-04-19 20:44:15.0000001</td>\n",
              "    </tr>\n",
              "    <tr>\n",
              "      <th>9912</th>\n",
              "      <td>2015-01-31 01:05:19.0000005</td>\n",
              "    </tr>\n",
              "    <tr>\n",
              "      <th>9913</th>\n",
              "      <td>2015-01-18 14:06:23.0000006</td>\n",
              "    </tr>\n",
              "  </tbody>\n",
              "</table>\n",
              "<p>9914 rows × 1 columns</p>\n",
              "</div>\n",
              "      <button class=\"colab-df-convert\" onclick=\"convertToInteractive('df-7373a0e1-974d-41ba-922d-ba0134bc6fd1')\"\n",
              "              title=\"Convert this dataframe to an interactive table.\"\n",
              "              style=\"display:none;\">\n",
              "        \n",
              "  <svg xmlns=\"http://www.w3.org/2000/svg\" height=\"24px\"viewBox=\"0 0 24 24\"\n",
              "       width=\"24px\">\n",
              "    <path d=\"M0 0h24v24H0V0z\" fill=\"none\"/>\n",
              "    <path d=\"M18.56 5.44l.94 2.06.94-2.06 2.06-.94-2.06-.94-.94-2.06-.94 2.06-2.06.94zm-11 1L8.5 8.5l.94-2.06 2.06-.94-2.06-.94L8.5 2.5l-.94 2.06-2.06.94zm10 10l.94 2.06.94-2.06 2.06-.94-2.06-.94-.94-2.06-.94 2.06-2.06.94z\"/><path d=\"M17.41 7.96l-1.37-1.37c-.4-.4-.92-.59-1.43-.59-.52 0-1.04.2-1.43.59L10.3 9.45l-7.72 7.72c-.78.78-.78 2.05 0 2.83L4 21.41c.39.39.9.59 1.41.59.51 0 1.02-.2 1.41-.59l7.78-7.78 2.81-2.81c.8-.78.8-2.07 0-2.86zM5.41 20L4 18.59l7.72-7.72 1.47 1.35L5.41 20z\"/>\n",
              "  </svg>\n",
              "      </button>\n",
              "      \n",
              "  <style>\n",
              "    .colab-df-container {\n",
              "      display:flex;\n",
              "      flex-wrap:wrap;\n",
              "      gap: 12px;\n",
              "    }\n",
              "\n",
              "    .colab-df-convert {\n",
              "      background-color: #E8F0FE;\n",
              "      border: none;\n",
              "      border-radius: 50%;\n",
              "      cursor: pointer;\n",
              "      display: none;\n",
              "      fill: #1967D2;\n",
              "      height: 32px;\n",
              "      padding: 0 0 0 0;\n",
              "      width: 32px;\n",
              "    }\n",
              "\n",
              "    .colab-df-convert:hover {\n",
              "      background-color: #E2EBFA;\n",
              "      box-shadow: 0px 1px 2px rgba(60, 64, 67, 0.3), 0px 1px 3px 1px rgba(60, 64, 67, 0.15);\n",
              "      fill: #174EA6;\n",
              "    }\n",
              "\n",
              "    [theme=dark] .colab-df-convert {\n",
              "      background-color: #3B4455;\n",
              "      fill: #D2E3FC;\n",
              "    }\n",
              "\n",
              "    [theme=dark] .colab-df-convert:hover {\n",
              "      background-color: #434B5C;\n",
              "      box-shadow: 0px 1px 3px 1px rgba(0, 0, 0, 0.15);\n",
              "      filter: drop-shadow(0px 1px 2px rgba(0, 0, 0, 0.3));\n",
              "      fill: #FFFFFF;\n",
              "    }\n",
              "  </style>\n",
              "\n",
              "      <script>\n",
              "        const buttonEl =\n",
              "          document.querySelector('#df-7373a0e1-974d-41ba-922d-ba0134bc6fd1 button.colab-df-convert');\n",
              "        buttonEl.style.display =\n",
              "          google.colab.kernel.accessAllowed ? 'block' : 'none';\n",
              "\n",
              "        async function convertToInteractive(key) {\n",
              "          const element = document.querySelector('#df-7373a0e1-974d-41ba-922d-ba0134bc6fd1');\n",
              "          const dataTable =\n",
              "            await google.colab.kernel.invokeFunction('convertToInteractive',\n",
              "                                                     [key], {});\n",
              "          if (!dataTable) return;\n",
              "\n",
              "          const docLinkHtml = 'Like what you see? Visit the ' +\n",
              "            '<a target=\"_blank\" href=https://colab.research.google.com/notebooks/data_table.ipynb>data table notebook</a>'\n",
              "            + ' to learn more about interactive tables.';\n",
              "          element.innerHTML = '';\n",
              "          dataTable['output_type'] = 'display_data';\n",
              "          await google.colab.output.renderOutput(dataTable, element);\n",
              "          const docLink = document.createElement('div');\n",
              "          docLink.innerHTML = docLinkHtml;\n",
              "          element.appendChild(docLink);\n",
              "        }\n",
              "      </script>\n",
              "    </div>\n",
              "  </div>\n",
              "  "
            ]
          },
          "metadata": {},
          "execution_count": 67
        }
      ]
    },
    {
      "cell_type": "code",
      "source": [
        "submit['fare_amount'] = taxi_test_predict\n",
        "submit"
      ],
      "metadata": {
        "id": "mvWJ2jVrWOkk",
        "colab": {
          "base_uri": "https://localhost:8080/",
          "height": 424
        },
        "outputId": "0bcb6d5e-d57e-4e7b-9af6-ebf444a409af"
      },
      "execution_count": null,
      "outputs": [
        {
          "output_type": "execute_result",
          "data": {
            "text/plain": [
              "                              key  fare_amount\n",
              "0     2015-01-27 13:08:24.0000002    10.034996\n",
              "1     2015-01-27 13:08:24.0000003    10.035498\n",
              "2     2011-10-08 11:53:44.0000002     5.532277\n",
              "3     2012-12-01 21:12:12.0000002     8.189609\n",
              "4     2012-12-01 21:12:12.0000003    13.997590\n",
              "...                           ...          ...\n",
              "9909  2015-05-10 12:37:51.0000002     8.737504\n",
              "9910  2015-01-12 17:05:51.0000001    11.934103\n",
              "9911  2015-04-19 20:44:15.0000001    54.919295\n",
              "9912  2015-01-31 01:05:19.0000005    22.864087\n",
              "9913  2015-01-18 14:06:23.0000006     7.070732\n",
              "\n",
              "[9914 rows x 2 columns]"
            ],
            "text/html": [
              "\n",
              "  <div id=\"df-4ca220ad-0b74-4d2d-adb6-88b7b2460aeb\">\n",
              "    <div class=\"colab-df-container\">\n",
              "      <div>\n",
              "<style scoped>\n",
              "    .dataframe tbody tr th:only-of-type {\n",
              "        vertical-align: middle;\n",
              "    }\n",
              "\n",
              "    .dataframe tbody tr th {\n",
              "        vertical-align: top;\n",
              "    }\n",
              "\n",
              "    .dataframe thead th {\n",
              "        text-align: right;\n",
              "    }\n",
              "</style>\n",
              "<table border=\"1\" class=\"dataframe\">\n",
              "  <thead>\n",
              "    <tr style=\"text-align: right;\">\n",
              "      <th></th>\n",
              "      <th>key</th>\n",
              "      <th>fare_amount</th>\n",
              "    </tr>\n",
              "  </thead>\n",
              "  <tbody>\n",
              "    <tr>\n",
              "      <th>0</th>\n",
              "      <td>2015-01-27 13:08:24.0000002</td>\n",
              "      <td>10.034996</td>\n",
              "    </tr>\n",
              "    <tr>\n",
              "      <th>1</th>\n",
              "      <td>2015-01-27 13:08:24.0000003</td>\n",
              "      <td>10.035498</td>\n",
              "    </tr>\n",
              "    <tr>\n",
              "      <th>2</th>\n",
              "      <td>2011-10-08 11:53:44.0000002</td>\n",
              "      <td>5.532277</td>\n",
              "    </tr>\n",
              "    <tr>\n",
              "      <th>3</th>\n",
              "      <td>2012-12-01 21:12:12.0000002</td>\n",
              "      <td>8.189609</td>\n",
              "    </tr>\n",
              "    <tr>\n",
              "      <th>4</th>\n",
              "      <td>2012-12-01 21:12:12.0000003</td>\n",
              "      <td>13.997590</td>\n",
              "    </tr>\n",
              "    <tr>\n",
              "      <th>...</th>\n",
              "      <td>...</td>\n",
              "      <td>...</td>\n",
              "    </tr>\n",
              "    <tr>\n",
              "      <th>9909</th>\n",
              "      <td>2015-05-10 12:37:51.0000002</td>\n",
              "      <td>8.737504</td>\n",
              "    </tr>\n",
              "    <tr>\n",
              "      <th>9910</th>\n",
              "      <td>2015-01-12 17:05:51.0000001</td>\n",
              "      <td>11.934103</td>\n",
              "    </tr>\n",
              "    <tr>\n",
              "      <th>9911</th>\n",
              "      <td>2015-04-19 20:44:15.0000001</td>\n",
              "      <td>54.919295</td>\n",
              "    </tr>\n",
              "    <tr>\n",
              "      <th>9912</th>\n",
              "      <td>2015-01-31 01:05:19.0000005</td>\n",
              "      <td>22.864087</td>\n",
              "    </tr>\n",
              "    <tr>\n",
              "      <th>9913</th>\n",
              "      <td>2015-01-18 14:06:23.0000006</td>\n",
              "      <td>7.070732</td>\n",
              "    </tr>\n",
              "  </tbody>\n",
              "</table>\n",
              "<p>9914 rows × 2 columns</p>\n",
              "</div>\n",
              "      <button class=\"colab-df-convert\" onclick=\"convertToInteractive('df-4ca220ad-0b74-4d2d-adb6-88b7b2460aeb')\"\n",
              "              title=\"Convert this dataframe to an interactive table.\"\n",
              "              style=\"display:none;\">\n",
              "        \n",
              "  <svg xmlns=\"http://www.w3.org/2000/svg\" height=\"24px\"viewBox=\"0 0 24 24\"\n",
              "       width=\"24px\">\n",
              "    <path d=\"M0 0h24v24H0V0z\" fill=\"none\"/>\n",
              "    <path d=\"M18.56 5.44l.94 2.06.94-2.06 2.06-.94-2.06-.94-.94-2.06-.94 2.06-2.06.94zm-11 1L8.5 8.5l.94-2.06 2.06-.94-2.06-.94L8.5 2.5l-.94 2.06-2.06.94zm10 10l.94 2.06.94-2.06 2.06-.94-2.06-.94-.94-2.06-.94 2.06-2.06.94z\"/><path d=\"M17.41 7.96l-1.37-1.37c-.4-.4-.92-.59-1.43-.59-.52 0-1.04.2-1.43.59L10.3 9.45l-7.72 7.72c-.78.78-.78 2.05 0 2.83L4 21.41c.39.39.9.59 1.41.59.51 0 1.02-.2 1.41-.59l7.78-7.78 2.81-2.81c.8-.78.8-2.07 0-2.86zM5.41 20L4 18.59l7.72-7.72 1.47 1.35L5.41 20z\"/>\n",
              "  </svg>\n",
              "      </button>\n",
              "      \n",
              "  <style>\n",
              "    .colab-df-container {\n",
              "      display:flex;\n",
              "      flex-wrap:wrap;\n",
              "      gap: 12px;\n",
              "    }\n",
              "\n",
              "    .colab-df-convert {\n",
              "      background-color: #E8F0FE;\n",
              "      border: none;\n",
              "      border-radius: 50%;\n",
              "      cursor: pointer;\n",
              "      display: none;\n",
              "      fill: #1967D2;\n",
              "      height: 32px;\n",
              "      padding: 0 0 0 0;\n",
              "      width: 32px;\n",
              "    }\n",
              "\n",
              "    .colab-df-convert:hover {\n",
              "      background-color: #E2EBFA;\n",
              "      box-shadow: 0px 1px 2px rgba(60, 64, 67, 0.3), 0px 1px 3px 1px rgba(60, 64, 67, 0.15);\n",
              "      fill: #174EA6;\n",
              "    }\n",
              "\n",
              "    [theme=dark] .colab-df-convert {\n",
              "      background-color: #3B4455;\n",
              "      fill: #D2E3FC;\n",
              "    }\n",
              "\n",
              "    [theme=dark] .colab-df-convert:hover {\n",
              "      background-color: #434B5C;\n",
              "      box-shadow: 0px 1px 3px 1px rgba(0, 0, 0, 0.15);\n",
              "      filter: drop-shadow(0px 1px 2px rgba(0, 0, 0, 0.3));\n",
              "      fill: #FFFFFF;\n",
              "    }\n",
              "  </style>\n",
              "\n",
              "      <script>\n",
              "        const buttonEl =\n",
              "          document.querySelector('#df-4ca220ad-0b74-4d2d-adb6-88b7b2460aeb button.colab-df-convert');\n",
              "        buttonEl.style.display =\n",
              "          google.colab.kernel.accessAllowed ? 'block' : 'none';\n",
              "\n",
              "        async function convertToInteractive(key) {\n",
              "          const element = document.querySelector('#df-4ca220ad-0b74-4d2d-adb6-88b7b2460aeb');\n",
              "          const dataTable =\n",
              "            await google.colab.kernel.invokeFunction('convertToInteractive',\n",
              "                                                     [key], {});\n",
              "          if (!dataTable) return;\n",
              "\n",
              "          const docLinkHtml = 'Like what you see? Visit the ' +\n",
              "            '<a target=\"_blank\" href=https://colab.research.google.com/notebooks/data_table.ipynb>data table notebook</a>'\n",
              "            + ' to learn more about interactive tables.';\n",
              "          element.innerHTML = '';\n",
              "          dataTable['output_type'] = 'display_data';\n",
              "          await google.colab.output.renderOutput(dataTable, element);\n",
              "          const docLink = document.createElement('div');\n",
              "          docLink.innerHTML = docLinkHtml;\n",
              "          element.appendChild(docLink);\n",
              "        }\n",
              "      </script>\n",
              "    </div>\n",
              "  </div>\n",
              "  "
            ]
          },
          "metadata": {},
          "execution_count": 68
        }
      ]
    },
    {
      "cell_type": "code",
      "source": [
        "submit.to_csv('rf_submission.csv', index=False)"
      ],
      "metadata": {
        "id": "xfKtbh87ZV1q"
      },
      "execution_count": null,
      "outputs": []
    }
  ]
}